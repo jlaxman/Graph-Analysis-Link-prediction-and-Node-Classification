{
  "cells": [
    {
      "cell_type": "code",
      "execution_count": null,
      "metadata": {
        "id": "b_V5ZCtQMRBC"
      },
      "outputs": [],
      "source": [
        "%matplotlib inline"
      ]
    },
    {
      "cell_type": "code",
      "execution_count": null,
      "metadata": {
        "colab": {
          "base_uri": "https://localhost:8080/"
        },
        "id": "vwJ9hu1TMp0a",
        "outputId": "6bc5490a-0fa2-49af-d1cc-e0779080c3ae"
      },
      "outputs": [
        {
          "output_type": "stream",
          "name": "stdout",
          "text": [
            "Looking in indexes: https://pypi.org/simple, https://us-python.pkg.dev/colab-wheels/public/simple/\n",
            "Requirement already satisfied: dgl==1.0.1 in /usr/local/lib/python3.10/dist-packages (1.0.1)\n",
            "Requirement already satisfied: numpy>=1.14.0 in /usr/local/lib/python3.10/dist-packages (from dgl==1.0.1) (1.22.4)\n",
            "Requirement already satisfied: scipy>=1.1.0 in /usr/local/lib/python3.10/dist-packages (from dgl==1.0.1) (1.10.1)\n",
            "Requirement already satisfied: networkx>=2.1 in /usr/local/lib/python3.10/dist-packages (from dgl==1.0.1) (2.6.3)\n",
            "Requirement already satisfied: requests>=2.19.0 in /usr/local/lib/python3.10/dist-packages (from dgl==1.0.1) (2.27.1)\n",
            "Requirement already satisfied: tqdm in /usr/local/lib/python3.10/dist-packages (from dgl==1.0.1) (4.65.0)\n",
            "Requirement already satisfied: psutil>=5.8.0 in /usr/local/lib/python3.10/dist-packages (from dgl==1.0.1) (5.9.5)\n",
            "Requirement already satisfied: urllib3<1.27,>=1.21.1 in /usr/local/lib/python3.10/dist-packages (from requests>=2.19.0->dgl==1.0.1) (1.26.15)\n",
            "Requirement already satisfied: certifi>=2017.4.17 in /usr/local/lib/python3.10/dist-packages (from requests>=2.19.0->dgl==1.0.1) (2022.12.7)\n",
            "Requirement already satisfied: charset-normalizer~=2.0.0 in /usr/local/lib/python3.10/dist-packages (from requests>=2.19.0->dgl==1.0.1) (2.0.12)\n",
            "Requirement already satisfied: idna<4,>=2.5 in /usr/local/lib/python3.10/dist-packages (from requests>=2.19.0->dgl==1.0.1) (3.4)\n",
            "Looking in indexes: https://pypi.org/simple, https://us-python.pkg.dev/colab-wheels/public/simple/\n",
            "Requirement already satisfied: torch==2.0.0 in /usr/local/lib/python3.10/dist-packages (2.0.0+cu118)\n",
            "Requirement already satisfied: filelock in /usr/local/lib/python3.10/dist-packages (from torch==2.0.0) (3.12.0)\n",
            "Requirement already satisfied: typing-extensions in /usr/local/lib/python3.10/dist-packages (from torch==2.0.0) (4.5.0)\n",
            "Requirement already satisfied: sympy in /usr/local/lib/python3.10/dist-packages (from torch==2.0.0) (1.11.1)\n",
            "Requirement already satisfied: networkx in /usr/local/lib/python3.10/dist-packages (from torch==2.0.0) (2.6.3)\n",
            "Requirement already satisfied: jinja2 in /usr/local/lib/python3.10/dist-packages (from torch==2.0.0) (3.1.2)\n",
            "Requirement already satisfied: triton==2.0.0 in /usr/local/lib/python3.10/dist-packages (from torch==2.0.0) (2.0.0)\n",
            "Requirement already satisfied: cmake in /usr/local/lib/python3.10/dist-packages (from triton==2.0.0->torch==2.0.0) (3.25.2)\n",
            "Requirement already satisfied: lit in /usr/local/lib/python3.10/dist-packages (from triton==2.0.0->torch==2.0.0) (16.0.2)\n",
            "Requirement already satisfied: MarkupSafe>=2.0 in /usr/local/lib/python3.10/dist-packages (from jinja2->torch==2.0.0) (2.1.2)\n",
            "Requirement already satisfied: mpmath>=0.19 in /usr/local/lib/python3.10/dist-packages (from sympy->torch==2.0.0) (1.3.0)\n",
            "Looking in indexes: https://pypi.org/simple, https://us-python.pkg.dev/colab-wheels/public/simple/\n",
            "Requirement already satisfied: node2vec in /usr/local/lib/python3.10/dist-packages (0.4.6)\n",
            "Requirement already satisfied: gensim<5.0.0,>=4.1.2 in /usr/local/lib/python3.10/dist-packages (from node2vec) (4.3.1)\n",
            "Requirement already satisfied: joblib<2.0.0,>=1.1.0 in /usr/local/lib/python3.10/dist-packages (from node2vec) (1.2.0)\n",
            "Requirement already satisfied: networkx<3.0,>=2.5 in /usr/local/lib/python3.10/dist-packages (from node2vec) (2.6.3)\n",
            "Requirement already satisfied: numpy<2.0.0,>=1.19.5 in /usr/local/lib/python3.10/dist-packages (from node2vec) (1.22.4)\n",
            "Requirement already satisfied: tqdm<5.0.0,>=4.55.1 in /usr/local/lib/python3.10/dist-packages (from node2vec) (4.65.0)\n",
            "Requirement already satisfied: scipy>=1.7.0 in /usr/local/lib/python3.10/dist-packages (from gensim<5.0.0,>=4.1.2->node2vec) (1.10.1)\n",
            "Requirement already satisfied: smart-open>=1.8.1 in /usr/local/lib/python3.10/dist-packages (from gensim<5.0.0,>=4.1.2->node2vec) (6.3.0)\n",
            "Looking in indexes: https://pypi.org/simple, https://us-python.pkg.dev/colab-wheels/public/simple/\n",
            "Requirement already satisfied: networkx<2.7 in /usr/local/lib/python3.10/dist-packages (2.6.3)\n",
            "Looking in indexes: https://pypi.org/simple, https://us-python.pkg.dev/colab-wheels/public/simple/\n",
            "Requirement already satisfied: scipy>=1.8 in /usr/local/lib/python3.10/dist-packages (1.10.1)\n",
            "Requirement already satisfied: numpy<1.27.0,>=1.19.5 in /usr/local/lib/python3.10/dist-packages (from scipy>=1.8) (1.22.4)\n"
          ]
        }
      ],
      "source": [
        "# !pip install dgl\n",
        "!pip install dgl==1.0.1\n",
        "!pip install torch==2.0.0\n",
        "!pip install node2vec\n",
        "!pip install 'networkx<2.7'\n",
        "!pip install 'scipy>=1.8'"
      ]
    },
    {
      "cell_type": "code",
      "execution_count": null,
      "metadata": {
        "id": "0sjE3fIgMX-X"
      },
      "outputs": [],
      "source": [
        "import dgl\n",
        "import dgl.data\n",
        "import torch\n",
        "import torch.nn as nn\n",
        "import torch.nn.functional as F\n",
        "from dgl.nn import GraphConv\n",
        "import dgl.function as fn\n",
        "import itertools\n",
        "import numpy as np\n",
        "import scipy.sparse as sp"
      ]
    },
    {
      "cell_type": "code",
      "execution_count": null,
      "metadata": {
        "colab": {
          "base_uri": "https://localhost:8080/"
        },
        "id": "4_YwBvbBO-8w",
        "outputId": "601fba19-c816-4e41-dd2c-63c7efcbee2e"
      },
      "outputs": [
        {
          "output_type": "stream",
          "name": "stdout",
          "text": [
            "  NumNodes: 2708\n",
            "  NumEdges: 10556\n",
            "  NumFeats: 1433\n",
            "  NumClasses: 7\n",
            "  NumTrainingSamples: 140\n",
            "  NumValidationSamples: 500\n",
            "  NumTestSamples: 1000\n",
            "Done loading data from cached files.\n"
          ]
        }
      ],
      "source": [
        "dataset = dgl.data.CoraGraphDataset()\n",
        "g = dataset[0]"
      ]
    },
    {
      "cell_type": "code",
      "execution_count": null,
      "metadata": {
        "id": "FDScyo1dO_kL"
      },
      "outputs": [],
      "source": [
        "u, v = g.edges()"
      ]
    },
    {
      "cell_type": "code",
      "execution_count": null,
      "metadata": {
        "id": "MAaUDf1PP65e"
      },
      "outputs": [],
      "source": [
        "edge_ids = np.arange(g.number_of_edges())\n",
        "edge_ids = np.random.permutation(edge_ids)\n",
        "test_size = int(len(edge_ids) * 0.1)\n",
        "train_size = g.number_of_edges() - test_size\n",
        "test_pos_u, test_pos_v = u[edge_ids[:test_size]], v[edge_ids[:test_size]]\n",
        "train_pos_u, train_pos_v = u[edge_ids[test_size:]], v[edge_ids[test_size:]]"
      ]
    },
    {
      "cell_type": "code",
      "execution_count": null,
      "metadata": {
        "id": "Y86LMbwZQhGf"
      },
      "outputs": [],
      "source": [
        "adj = sp.coo_matrix((np.ones(len(u)), (u.numpy(), v.numpy())))\n",
        "adj_neg = 1 - adj.todense() - np.eye(g.number_of_nodes())\n",
        "neg_u, neg_v = np.where(adj_neg != 0)\n",
        "\n",
        "neg_edge_ids = np.random.choice(len(neg_u), g.number_of_edges() // 2)\n",
        "test_neg_u, test_neg_v = neg_u[neg_edge_ids[:test_size]], neg_v[neg_edge_ids[:test_size]]\n",
        "train_neg_u, train_neg_v = neg_u[neg_edge_ids[test_size:]], neg_v[neg_edge_ids[test_size:]]"
      ]
    },
    {
      "cell_type": "code",
      "execution_count": null,
      "metadata": {
        "id": "I25Uzj1eQvr6"
      },
      "outputs": [],
      "source": [
        "train_g = dgl.remove_edges(g, edge_ids[:test_size])"
      ]
    },
    {
      "cell_type": "code",
      "execution_count": null,
      "metadata": {
        "id": "0HecdUck48be"
      },
      "outputs": [],
      "source": [
        "def get_optimal_threshold(tpr, fpr, thresholds):\n",
        "  g_means = tpr*(1-fpr)\n",
        "  max_index = np.argmax(g_means)\n",
        "  return thresholds[max_index]"
      ]
    },
    {
      "cell_type": "code",
      "execution_count": null,
      "metadata": {
        "id": "6YJebiSI_H1P"
      },
      "outputs": [],
      "source": [
        "def binarize_scores(scores, labels, optimal_threshold):\n",
        "  final_preds = []\n",
        "  for i in range(len(scores)):\n",
        "    if(scores[i]<=optimal_threshold):\n",
        "      final_preds.append(0)\n",
        "    else:\n",
        "      final_preds.append(1)\n",
        "  return np.asarray(final_preds)"
      ]
    },
    {
      "cell_type": "markdown",
      "source": [
        "# Logistic Regression"
      ],
      "metadata": {
        "id": "pJ9LGyXVJaWD"
      }
    },
    {
      "cell_type": "code",
      "source": [
        "# Define logistic regression model\n",
        "class LogisticRegression(nn.Module):\n",
        "    def __init__(self, in_feats, hidden_size, num_classes):\n",
        "        super(LogisticRegression, self).__init__()\n",
        "        self.linear = nn.Linear(in_feats, hidden_size)\n",
        "        self.linear2 = nn.Linear(hidden_size, num_classes)\n",
        "\n",
        "    def forward(self, g, features):\n",
        "        x = F.relu(self.linear(g, features))\n",
        "        x = self.linear2(g, x)\n",
        "        return x\n"
      ],
      "metadata": {
        "id": "oV1n5rFvJdd9"
      },
      "execution_count": null,
      "outputs": []
    },
    {
      "cell_type": "markdown",
      "metadata": {
        "id": "IXBt_oqcpFt5"
      },
      "source": [
        "# GCN"
      ]
    },
    {
      "cell_type": "code",
      "execution_count": null,
      "metadata": {
        "id": "Y7d4Z2suQwSY"
      },
      "outputs": [],
      "source": [
        "class GCN(nn.Module):\n",
        "    def __init__(self, in_feats, h_feats):\n",
        "        super(GCN, self).__init__()\n",
        "        self.conv1 = GraphConv(in_feats, h_feats)\n",
        "        self.conv2 = GraphConv(h_feats, h_feats)\n",
        "    \n",
        "    def forward(self, g, in_feat):\n",
        "        h = self.conv1(g, in_feat)\n",
        "        h = F.relu(h)\n",
        "        h = self.conv2(g, h)\n",
        "        return h"
      ]
    },
    {
      "cell_type": "code",
      "execution_count": null,
      "metadata": {
        "id": "ngpDNne9T4Zt"
      },
      "outputs": [],
      "source": [
        "model = GCN(train_g.ndata['feat'].shape[1], 16)"
      ]
    },
    {
      "cell_type": "code",
      "execution_count": null,
      "metadata": {
        "colab": {
          "base_uri": "https://localhost:8080/"
        },
        "id": "SgYSCBBZk59N",
        "outputId": "ef027984-e1e8-4b55-b62d-b02458eac840"
      },
      "outputs": [
        {
          "output_type": "stream",
          "name": "stderr",
          "text": [
            "/usr/local/lib/python3.10/dist-packages/dgl/backend/pytorch/tensor.py:445: UserWarning: TypedStorage is deprecated. It will be removed in the future and UntypedStorage will be the only storage class. This should only matter to you if you are using storages directly.  To access UntypedStorage directly, use tensor.untyped_storage() instead of tensor.storage()\n",
            "  assert input.numel() == input.storage().size(), (\n"
          ]
        },
        {
          "output_type": "stream",
          "name": "stdout",
          "text": [
            "In epoch 0, loss: 0.805, val acc: 0.760 (best 0.760), test acc: 0.741 (best 0.741)\n",
            "In epoch 5, loss: 0.681, val acc: 0.774 (best 0.776), test acc: 0.756 (best 0.749)\n",
            "In epoch 10, loss: 0.571, val acc: 0.774 (best 0.776), test acc: 0.766 (best 0.749)\n",
            "In epoch 15, loss: 0.475, val acc: 0.776 (best 0.776), test acc: 0.770 (best 0.749)\n",
            "In epoch 20, loss: 0.393, val acc: 0.780 (best 0.780), test acc: 0.777 (best 0.775)\n",
            "In epoch 25, loss: 0.324, val acc: 0.778 (best 0.782), test acc: 0.777 (best 0.779)\n",
            "In epoch 30, loss: 0.267, val acc: 0.776 (best 0.782), test acc: 0.778 (best 0.779)\n",
            "In epoch 35, loss: 0.221, val acc: 0.772 (best 0.782), test acc: 0.782 (best 0.779)\n",
            "In epoch 40, loss: 0.183, val acc: 0.776 (best 0.782), test acc: 0.779 (best 0.779)\n",
            "In epoch 45, loss: 0.153, val acc: 0.782 (best 0.782), test acc: 0.777 (best 0.779)\n",
            "In epoch 50, loss: 0.128, val acc: 0.776 (best 0.782), test acc: 0.778 (best 0.779)\n",
            "In epoch 55, loss: 0.108, val acc: 0.772 (best 0.782), test acc: 0.779 (best 0.779)\n",
            "In epoch 60, loss: 0.091, val acc: 0.774 (best 0.782), test acc: 0.776 (best 0.779)\n",
            "In epoch 65, loss: 0.078, val acc: 0.772 (best 0.782), test acc: 0.774 (best 0.779)\n",
            "In epoch 70, loss: 0.067, val acc: 0.780 (best 0.782), test acc: 0.775 (best 0.779)\n",
            "In epoch 75, loss: 0.058, val acc: 0.778 (best 0.782), test acc: 0.771 (best 0.779)\n",
            "In epoch 80, loss: 0.051, val acc: 0.778 (best 0.782), test acc: 0.770 (best 0.779)\n",
            "In epoch 85, loss: 0.045, val acc: 0.778 (best 0.782), test acc: 0.771 (best 0.779)\n",
            "In epoch 90, loss: 0.040, val acc: 0.776 (best 0.782), test acc: 0.770 (best 0.779)\n",
            "In epoch 95, loss: 0.036, val acc: 0.778 (best 0.782), test acc: 0.772 (best 0.779)\n"
          ]
        }
      ],
      "source": [
        "from sklearn.metrics import accuracy_score, f1_score, precision_score, recall_score\n",
        "optimizer = torch.optim.Adam(model.parameters(), lr=0.01)\n",
        "best_val_acc = 0\n",
        "best_test_acc = 0\n",
        "\n",
        "features = g.ndata[\"feat\"]\n",
        "labels = g.ndata[\"label\"]\n",
        "train_mask = g.ndata[\"train_mask\"]\n",
        "val_mask = g.ndata[\"val_mask\"]\n",
        "test_mask = g.ndata[\"test_mask\"]\n",
        "\n",
        "for e in range(100):\n",
        "    # Forward\n",
        "    logits = model(g, features)\n",
        "\n",
        "    # Compute prediction\n",
        "    pred = logits.argmax(1)\n",
        "\n",
        "    # Compute loss\n",
        "    # Note that you should only compute the losses of the nodes in the training set.\n",
        "    loss = F.cross_entropy(logits[train_mask], labels[train_mask])\n",
        "\n",
        "    # Compute accuracy on training/validation/test\n",
        "    train_acc = (pred[train_mask] == labels[train_mask]).float().mean()\n",
        "    val_acc = (pred[val_mask] == labels[val_mask]).float().mean()\n",
        "    test_acc = (pred[test_mask] == labels[test_mask]).float().mean()\n",
        "\n",
        "    # Save the best validation accuracy and the corresponding test accuracy.\n",
        "    if best_val_acc < val_acc:\n",
        "        best_val_acc = val_acc\n",
        "        best_test_acc = test_acc\n",
        "\n",
        "    # Backward\n",
        "    optimizer.zero_grad()\n",
        "    loss.backward()\n",
        "    optimizer.step()\n",
        "\n",
        "    if e % 5 == 0:\n",
        "        print(\n",
        "            \"In epoch {}, loss: {:.3f}, val acc: {:.3f} (best {:.3f}), test acc: {:.3f} (best {:.3f})\".format(\n",
        "                e, loss, val_acc, best_val_acc, test_acc, best_test_acc\n",
        "            )\n",
        "        )\n",
        "\n",
        "# Compute evaluation metrics on test data\n",
        "logits_test = model(g, features)\n",
        "pred_test = logits_test.argmax(1)\n",
        "\n",
        "test_acc = accuracy_score(labels[test_mask].cpu().numpy(), pred_test[test_mask].cpu().numpy())\n",
        "test_f1 = f1_score(labels[test_mask].cpu().numpy(), pred_test[test_mask].cpu().numpy(), average='weighted')\n",
        "test_precision = precision_score(labels[test_mask].cpu().numpy(), pred_test[test_mask].cpu().numpy(), average='weighted')\n",
        "test_recall = recall_score(labels[test_mask].cpu().numpy(), pred_test[test_mask].cpu().numpy(), average='weighted')\n",
        "\n"
      ]
    },
    {
      "cell_type": "code",
      "source": [
        "print(\"Test accuracy: {:.3f}\".format(test_acc))\n",
        "print(\"Test F-score: {:.3f}\".format(test_f1))\n",
        "print(\"Test Precision: {:.3f}\".format(test_precision))\n",
        "print(\"Test Recall: {:.3f}\".format(test_recall))"
      ],
      "metadata": {
        "colab": {
          "base_uri": "https://localhost:8080/"
        },
        "id": "cYunceO2pzJv",
        "outputId": "977097ba-dc64-44fe-9f0e-cfc0dfc942aa"
      },
      "execution_count": null,
      "outputs": [
        {
          "output_type": "stream",
          "name": "stdout",
          "text": [
            "Test accuracy: 0.770\n",
            "Test F-score: 0.770\n",
            "Test Precision: 0.783\n",
            "Test Recall: 0.770\n"
          ]
        }
      ]
    },
    {
      "cell_type": "markdown",
      "source": [
        "# GraphSAGE"
      ],
      "metadata": {
        "id": "dqSor8RU7aLz"
      }
    },
    {
      "cell_type": "code",
      "source": [
        "import torch.nn.functional as F\n",
        "from dgl.nn import SAGEConv, GATConv\n",
        "\n",
        "class GraphSAGE(nn.Module):\n",
        "    def __init__(self, in_feats, h_feats):\n",
        "        super(GraphSAGE, self).__init__()\n",
        "        self.conv1 = SAGEConv(in_feats, h_feats, 'mean')\n",
        "        self.conv2 = SAGEConv(h_feats, h_feats, 'mean')\n",
        "    \n",
        "    def forward(self, g, in_feat):\n",
        "        h = self.conv1(g, in_feat)\n",
        "        h = F.relu(h)\n",
        "        h = self.conv2(g, h)\n",
        "        return h\n"
      ],
      "metadata": {
        "id": "UFOL5NeP7eCI"
      },
      "execution_count": null,
      "outputs": []
    },
    {
      "cell_type": "code",
      "source": [
        "\n",
        "model = GraphSAGE(train_g.ndata['feat'].shape[1], 32)"
      ],
      "metadata": {
        "id": "eSSfGff57eMJ"
      },
      "execution_count": null,
      "outputs": []
    },
    {
      "cell_type": "code",
      "source": [
        "from sklearn.metrics import accuracy_score, f1_score, precision_score, recall_score\n",
        "optimizer = torch.optim.Adam(model.parameters(), lr=0.01)\n",
        "\n",
        "best_val_acc = 0\n",
        "best_test_acc = 0\n",
        "\n",
        "features = g.ndata[\"feat\"]\n",
        "labels = g.ndata[\"label\"]\n",
        "train_mask = g.ndata[\"train_mask\"]\n",
        "val_mask = g.ndata[\"val_mask\"]\n",
        "test_mask = g.ndata[\"test_mask\"]\n",
        "\n",
        "for e in range(100):\n",
        "    # Forward\n",
        "    logits = model(g, features)\n",
        "\n",
        "    # Compute prediction\n",
        "    pred = logits.argmax(1)\n",
        "\n",
        "    # Compute loss\n",
        "    # Note that you should only compute the losses of the nodes in the training set.\n",
        "    loss = F.cross_entropy(logits[train_mask], labels[train_mask])\n",
        "\n",
        "    # Compute accuracy on training/validation/test\n",
        "    train_acc = (pred[train_mask] == labels[train_mask]).float().mean()\n",
        "    val_acc = (pred[val_mask] == labels[val_mask]).float().mean()\n",
        "    test_acc = (pred[test_mask] == labels[test_mask]).float().mean()\n",
        "\n",
        "    # Save the best validation accuracy and the corresponding test accuracy.\n",
        "    if best_val_acc < val_acc:\n",
        "        best_val_acc = val_acc\n",
        "        best_test_acc = test_acc\n",
        "\n",
        "    # Backward\n",
        "    optimizer.zero_grad()\n",
        "    loss.backward()\n",
        "    optimizer.step()\n",
        "\n",
        "    if e %5 == 0:\n",
        "        print(\n",
        "            \"In epoch {}, loss: {:.3f}, val acc: {:.3f} (best {:.3f}), test acc: {:.3f} (best {:.3f})\".format(\n",
        "                e, loss, val_acc, best_val_acc, test_acc, best_test_acc\n",
        "            )\n",
        "        )\n",
        "\n",
        "# Compute evaluation metrics on test data\n",
        "logits_test = model(g, features)\n",
        "pred_test = logits_test.argmax(1)\n",
        "\n",
        "test_acc = accuracy_score(labels[test_mask].cpu().numpy(), pred_test[test_mask].cpu().numpy())\n",
        "test_f1 = f1_score(labels[test_mask].cpu().numpy(), pred_test[test_mask].cpu().numpy(), average='weighted')\n",
        "test_precision = precision_score(labels[test_mask].cpu().numpy(), pred_test[test_mask].cpu().numpy(), average='weighted')\n",
        "test_recall = recall_score(labels[test_mask].cpu().numpy(), pred_test[test_mask].cpu().numpy(), average='weighted')\n",
        "\n"
      ],
      "metadata": {
        "colab": {
          "base_uri": "https://localhost:8080/"
        },
        "id": "2Cq2Tqa17eO_",
        "outputId": "2f23d698-8e95-4295-b759-41455adf9f80"
      },
      "execution_count": null,
      "outputs": [
        {
          "output_type": "stream",
          "name": "stderr",
          "text": [
            "/usr/local/lib/python3.10/dist-packages/dgl/backend/pytorch/tensor.py:445: UserWarning: TypedStorage is deprecated. It will be removed in the future and UntypedStorage will be the only storage class. This should only matter to you if you are using storages directly.  To access UntypedStorage directly, use tensor.untyped_storage() instead of tensor.storage()\n",
            "  assert input.numel() == input.storage().size(), (\n"
          ]
        },
        {
          "output_type": "stream",
          "name": "stdout",
          "text": [
            "In epoch 0, loss: 3.437, val acc: 0.000 (best 0.000), test acc: 0.003 (best 0.000)\n",
            "In epoch 5, loss: 2.656, val acc: 0.170 (best 0.170), test acc: 0.194 (best 0.194)\n",
            "In epoch 10, loss: 1.687, val acc: 0.226 (best 0.226), test acc: 0.247 (best 0.247)\n",
            "In epoch 15, loss: 1.137, val acc: 0.592 (best 0.592), test acc: 0.565 (best 0.565)\n",
            "In epoch 20, loss: 0.757, val acc: 0.744 (best 0.744), test acc: 0.700 (best 0.700)\n",
            "In epoch 25, loss: 0.449, val acc: 0.750 (best 0.754), test acc: 0.716 (best 0.701)\n",
            "In epoch 30, loss: 0.246, val acc: 0.736 (best 0.754), test acc: 0.709 (best 0.701)\n",
            "In epoch 35, loss: 0.130, val acc: 0.752 (best 0.756), test acc: 0.744 (best 0.738)\n",
            "In epoch 40, loss: 0.071, val acc: 0.756 (best 0.756), test acc: 0.747 (best 0.738)\n",
            "In epoch 45, loss: 0.041, val acc: 0.748 (best 0.756), test acc: 0.741 (best 0.738)\n",
            "In epoch 50, loss: 0.026, val acc: 0.748 (best 0.756), test acc: 0.746 (best 0.738)\n",
            "In epoch 55, loss: 0.018, val acc: 0.748 (best 0.756), test acc: 0.754 (best 0.738)\n",
            "In epoch 60, loss: 0.013, val acc: 0.750 (best 0.756), test acc: 0.758 (best 0.738)\n",
            "In epoch 65, loss: 0.011, val acc: 0.748 (best 0.756), test acc: 0.761 (best 0.738)\n",
            "In epoch 70, loss: 0.009, val acc: 0.752 (best 0.756), test acc: 0.758 (best 0.738)\n",
            "In epoch 75, loss: 0.008, val acc: 0.752 (best 0.756), test acc: 0.758 (best 0.738)\n",
            "In epoch 80, loss: 0.007, val acc: 0.752 (best 0.756), test acc: 0.759 (best 0.738)\n",
            "In epoch 85, loss: 0.006, val acc: 0.748 (best 0.756), test acc: 0.759 (best 0.738)\n",
            "In epoch 90, loss: 0.005, val acc: 0.750 (best 0.756), test acc: 0.759 (best 0.738)\n",
            "In epoch 95, loss: 0.005, val acc: 0.750 (best 0.756), test acc: 0.760 (best 0.738)\n"
          ]
        }
      ]
    },
    {
      "cell_type": "code",
      "source": [
        "print(\"Test accuracy: {:.3f}\".format(test_acc))\n",
        "print(\"Test F-score: {:.3f}\".format(test_f1))\n",
        "print(\"Test Precision: {:.3f}\".format(test_precision))\n",
        "print(\"Test Recall: {:.3f}\".format(test_recall))"
      ],
      "metadata": {
        "colab": {
          "base_uri": "https://localhost:8080/"
        },
        "id": "Lac82i7A7eRj",
        "outputId": "33bd1156-da04-4684-9325-21519197d8a0"
      },
      "execution_count": null,
      "outputs": [
        {
          "output_type": "stream",
          "name": "stdout",
          "text": [
            "Test accuracy: 0.761\n",
            "Test F-score: 0.761\n",
            "Test Precision: 0.784\n",
            "Test Recall: 0.761\n"
          ]
        }
      ]
    },
    {
      "cell_type": "code",
      "source": [],
      "metadata": {
        "id": "2Bpf3rAU7elL"
      },
      "execution_count": null,
      "outputs": []
    },
    {
      "cell_type": "code",
      "source": [],
      "metadata": {
        "id": "xsPwCzAR7em_"
      },
      "execution_count": null,
      "outputs": []
    }
  ],
  "metadata": {
    "colab": {
      "provenance": []
    },
    "kernelspec": {
      "display_name": "Python 3 (ipykernel)",
      "language": "python",
      "name": "python3"
    },
    "language_info": {
      "codemirror_mode": {
        "name": "ipython",
        "version": 3
      },
      "file_extension": ".py",
      "mimetype": "text/x-python",
      "name": "python",
      "nbconvert_exporter": "python",
      "pygments_lexer": "ipython3",
      "version": "3.9.12"
    }
  },
  "nbformat": 4,
  "nbformat_minor": 0
}