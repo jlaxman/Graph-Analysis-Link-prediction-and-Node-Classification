{
  "nbformat": 4,
  "nbformat_minor": 0,
  "metadata": {
    "colab": {
      "provenance": []
    },
    "kernelspec": {
      "name": "python3",
      "display_name": "Python 3"
    },
    "language_info": {
      "name": "python"
    },
    "widgets": {
      "application/vnd.jupyter.widget-state+json": {
        "3bb6ae5a39ad43b491a66662e7ceb5f3": {
          "model_module": "@jupyter-widgets/controls",
          "model_name": "HBoxModel",
          "model_module_version": "1.5.0",
          "state": {
            "_dom_classes": [],
            "_model_module": "@jupyter-widgets/controls",
            "_model_module_version": "1.5.0",
            "_model_name": "HBoxModel",
            "_view_count": null,
            "_view_module": "@jupyter-widgets/controls",
            "_view_module_version": "1.5.0",
            "_view_name": "HBoxView",
            "box_style": "",
            "children": [
              "IPY_MODEL_2d67080d1dd64cd7bbb07c28c9d4700d",
              "IPY_MODEL_2b124a3f83324ea3b5bd26acf0f1dcba",
              "IPY_MODEL_febae676d2e94f6aad575d37ddf13997"
            ],
            "layout": "IPY_MODEL_2a28a86079a84c5abcc6e57ab67f2ca5"
          }
        },
        "2d67080d1dd64cd7bbb07c28c9d4700d": {
          "model_module": "@jupyter-widgets/controls",
          "model_name": "HTMLModel",
          "model_module_version": "1.5.0",
          "state": {
            "_dom_classes": [],
            "_model_module": "@jupyter-widgets/controls",
            "_model_module_version": "1.5.0",
            "_model_name": "HTMLModel",
            "_view_count": null,
            "_view_module": "@jupyter-widgets/controls",
            "_view_module_version": "1.5.0",
            "_view_name": "HTMLView",
            "description": "",
            "description_tooltip": null,
            "layout": "IPY_MODEL_ac421831c06244c097513646b78ca3a4",
            "placeholder": "​",
            "style": "IPY_MODEL_756573f5b82645cc800a77f6975e71a2",
            "value": "Computing transition probabilities: 100%"
          }
        },
        "2b124a3f83324ea3b5bd26acf0f1dcba": {
          "model_module": "@jupyter-widgets/controls",
          "model_name": "FloatProgressModel",
          "model_module_version": "1.5.0",
          "state": {
            "_dom_classes": [],
            "_model_module": "@jupyter-widgets/controls",
            "_model_module_version": "1.5.0",
            "_model_name": "FloatProgressModel",
            "_view_count": null,
            "_view_module": "@jupyter-widgets/controls",
            "_view_module_version": "1.5.0",
            "_view_name": "ProgressView",
            "bar_style": "success",
            "description": "",
            "description_tooltip": null,
            "layout": "IPY_MODEL_9937d253d5ca4c29a72e06408a762768",
            "max": 2708,
            "min": 0,
            "orientation": "horizontal",
            "style": "IPY_MODEL_9dc02b016d9c445e9fc4b2f14cfde12c",
            "value": 2708
          }
        },
        "febae676d2e94f6aad575d37ddf13997": {
          "model_module": "@jupyter-widgets/controls",
          "model_name": "HTMLModel",
          "model_module_version": "1.5.0",
          "state": {
            "_dom_classes": [],
            "_model_module": "@jupyter-widgets/controls",
            "_model_module_version": "1.5.0",
            "_model_name": "HTMLModel",
            "_view_count": null,
            "_view_module": "@jupyter-widgets/controls",
            "_view_module_version": "1.5.0",
            "_view_name": "HTMLView",
            "description": "",
            "description_tooltip": null,
            "layout": "IPY_MODEL_712ae2d3f71441b2af67103b7019f10d",
            "placeholder": "​",
            "style": "IPY_MODEL_ddd9d163d87944738e3aa3ffbd820de8",
            "value": " 2708/2708 [00:00&lt;00:00, 2388.90it/s]"
          }
        },
        "2a28a86079a84c5abcc6e57ab67f2ca5": {
          "model_module": "@jupyter-widgets/base",
          "model_name": "LayoutModel",
          "model_module_version": "1.2.0",
          "state": {
            "_model_module": "@jupyter-widgets/base",
            "_model_module_version": "1.2.0",
            "_model_name": "LayoutModel",
            "_view_count": null,
            "_view_module": "@jupyter-widgets/base",
            "_view_module_version": "1.2.0",
            "_view_name": "LayoutView",
            "align_content": null,
            "align_items": null,
            "align_self": null,
            "border": null,
            "bottom": null,
            "display": null,
            "flex": null,
            "flex_flow": null,
            "grid_area": null,
            "grid_auto_columns": null,
            "grid_auto_flow": null,
            "grid_auto_rows": null,
            "grid_column": null,
            "grid_gap": null,
            "grid_row": null,
            "grid_template_areas": null,
            "grid_template_columns": null,
            "grid_template_rows": null,
            "height": null,
            "justify_content": null,
            "justify_items": null,
            "left": null,
            "margin": null,
            "max_height": null,
            "max_width": null,
            "min_height": null,
            "min_width": null,
            "object_fit": null,
            "object_position": null,
            "order": null,
            "overflow": null,
            "overflow_x": null,
            "overflow_y": null,
            "padding": null,
            "right": null,
            "top": null,
            "visibility": null,
            "width": null
          }
        },
        "ac421831c06244c097513646b78ca3a4": {
          "model_module": "@jupyter-widgets/base",
          "model_name": "LayoutModel",
          "model_module_version": "1.2.0",
          "state": {
            "_model_module": "@jupyter-widgets/base",
            "_model_module_version": "1.2.0",
            "_model_name": "LayoutModel",
            "_view_count": null,
            "_view_module": "@jupyter-widgets/base",
            "_view_module_version": "1.2.0",
            "_view_name": "LayoutView",
            "align_content": null,
            "align_items": null,
            "align_self": null,
            "border": null,
            "bottom": null,
            "display": null,
            "flex": null,
            "flex_flow": null,
            "grid_area": null,
            "grid_auto_columns": null,
            "grid_auto_flow": null,
            "grid_auto_rows": null,
            "grid_column": null,
            "grid_gap": null,
            "grid_row": null,
            "grid_template_areas": null,
            "grid_template_columns": null,
            "grid_template_rows": null,
            "height": null,
            "justify_content": null,
            "justify_items": null,
            "left": null,
            "margin": null,
            "max_height": null,
            "max_width": null,
            "min_height": null,
            "min_width": null,
            "object_fit": null,
            "object_position": null,
            "order": null,
            "overflow": null,
            "overflow_x": null,
            "overflow_y": null,
            "padding": null,
            "right": null,
            "top": null,
            "visibility": null,
            "width": null
          }
        },
        "756573f5b82645cc800a77f6975e71a2": {
          "model_module": "@jupyter-widgets/controls",
          "model_name": "DescriptionStyleModel",
          "model_module_version": "1.5.0",
          "state": {
            "_model_module": "@jupyter-widgets/controls",
            "_model_module_version": "1.5.0",
            "_model_name": "DescriptionStyleModel",
            "_view_count": null,
            "_view_module": "@jupyter-widgets/base",
            "_view_module_version": "1.2.0",
            "_view_name": "StyleView",
            "description_width": ""
          }
        },
        "9937d253d5ca4c29a72e06408a762768": {
          "model_module": "@jupyter-widgets/base",
          "model_name": "LayoutModel",
          "model_module_version": "1.2.0",
          "state": {
            "_model_module": "@jupyter-widgets/base",
            "_model_module_version": "1.2.0",
            "_model_name": "LayoutModel",
            "_view_count": null,
            "_view_module": "@jupyter-widgets/base",
            "_view_module_version": "1.2.0",
            "_view_name": "LayoutView",
            "align_content": null,
            "align_items": null,
            "align_self": null,
            "border": null,
            "bottom": null,
            "display": null,
            "flex": null,
            "flex_flow": null,
            "grid_area": null,
            "grid_auto_columns": null,
            "grid_auto_flow": null,
            "grid_auto_rows": null,
            "grid_column": null,
            "grid_gap": null,
            "grid_row": null,
            "grid_template_areas": null,
            "grid_template_columns": null,
            "grid_template_rows": null,
            "height": null,
            "justify_content": null,
            "justify_items": null,
            "left": null,
            "margin": null,
            "max_height": null,
            "max_width": null,
            "min_height": null,
            "min_width": null,
            "object_fit": null,
            "object_position": null,
            "order": null,
            "overflow": null,
            "overflow_x": null,
            "overflow_y": null,
            "padding": null,
            "right": null,
            "top": null,
            "visibility": null,
            "width": null
          }
        },
        "9dc02b016d9c445e9fc4b2f14cfde12c": {
          "model_module": "@jupyter-widgets/controls",
          "model_name": "ProgressStyleModel",
          "model_module_version": "1.5.0",
          "state": {
            "_model_module": "@jupyter-widgets/controls",
            "_model_module_version": "1.5.0",
            "_model_name": "ProgressStyleModel",
            "_view_count": null,
            "_view_module": "@jupyter-widgets/base",
            "_view_module_version": "1.2.0",
            "_view_name": "StyleView",
            "bar_color": null,
            "description_width": ""
          }
        },
        "712ae2d3f71441b2af67103b7019f10d": {
          "model_module": "@jupyter-widgets/base",
          "model_name": "LayoutModel",
          "model_module_version": "1.2.0",
          "state": {
            "_model_module": "@jupyter-widgets/base",
            "_model_module_version": "1.2.0",
            "_model_name": "LayoutModel",
            "_view_count": null,
            "_view_module": "@jupyter-widgets/base",
            "_view_module_version": "1.2.0",
            "_view_name": "LayoutView",
            "align_content": null,
            "align_items": null,
            "align_self": null,
            "border": null,
            "bottom": null,
            "display": null,
            "flex": null,
            "flex_flow": null,
            "grid_area": null,
            "grid_auto_columns": null,
            "grid_auto_flow": null,
            "grid_auto_rows": null,
            "grid_column": null,
            "grid_gap": null,
            "grid_row": null,
            "grid_template_areas": null,
            "grid_template_columns": null,
            "grid_template_rows": null,
            "height": null,
            "justify_content": null,
            "justify_items": null,
            "left": null,
            "margin": null,
            "max_height": null,
            "max_width": null,
            "min_height": null,
            "min_width": null,
            "object_fit": null,
            "object_position": null,
            "order": null,
            "overflow": null,
            "overflow_x": null,
            "overflow_y": null,
            "padding": null,
            "right": null,
            "top": null,
            "visibility": null,
            "width": null
          }
        },
        "ddd9d163d87944738e3aa3ffbd820de8": {
          "model_module": "@jupyter-widgets/controls",
          "model_name": "DescriptionStyleModel",
          "model_module_version": "1.5.0",
          "state": {
            "_model_module": "@jupyter-widgets/controls",
            "_model_module_version": "1.5.0",
            "_model_name": "DescriptionStyleModel",
            "_view_count": null,
            "_view_module": "@jupyter-widgets/base",
            "_view_module_version": "1.2.0",
            "_view_name": "StyleView",
            "description_width": ""
          }
        }
      }
    }
  },
  "cells": [
    {
      "cell_type": "code",
      "execution_count": null,
      "metadata": {
        "id": "b_V5ZCtQMRBC"
      },
      "outputs": [],
      "source": [
        "%matplotlib inline\n"
      ]
    },
    {
      "cell_type": "code",
      "source": [
        "# !pip install dgl\n",
        "!pip install dgl==1.0.1\n",
        "!pip install torch==2.0.0\n",
        "!pip install node2vec"
      ],
      "metadata": {
        "colab": {
          "base_uri": "https://localhost:8080/"
        },
        "id": "vwJ9hu1TMp0a",
        "outputId": "e244878f-c81e-4d1d-8e44-af92333d57b0"
      },
      "execution_count": null,
      "outputs": [
        {
          "output_type": "stream",
          "name": "stdout",
          "text": [
            "Looking in indexes: https://pypi.org/simple, https://us-python.pkg.dev/colab-wheels/public/simple/\n",
            "Requirement already satisfied: dgl==1.0.1 in /usr/local/lib/python3.10/dist-packages (1.0.1)\n",
            "Requirement already satisfied: numpy>=1.14.0 in /usr/local/lib/python3.10/dist-packages (from dgl==1.0.1) (1.22.4)\n",
            "Requirement already satisfied: scipy>=1.1.0 in /usr/local/lib/python3.10/dist-packages (from dgl==1.0.1) (1.10.1)\n",
            "Requirement already satisfied: networkx>=2.1 in /usr/local/lib/python3.10/dist-packages (from dgl==1.0.1) (2.8.8)\n",
            "Requirement already satisfied: requests>=2.19.0 in /usr/local/lib/python3.10/dist-packages (from dgl==1.0.1) (2.27.1)\n",
            "Requirement already satisfied: tqdm in /usr/local/lib/python3.10/dist-packages (from dgl==1.0.1) (4.65.0)\n",
            "Requirement already satisfied: psutil>=5.8.0 in /usr/local/lib/python3.10/dist-packages (from dgl==1.0.1) (5.9.5)\n",
            "Requirement already satisfied: urllib3<1.27,>=1.21.1 in /usr/local/lib/python3.10/dist-packages (from requests>=2.19.0->dgl==1.0.1) (1.26.15)\n",
            "Requirement already satisfied: certifi>=2017.4.17 in /usr/local/lib/python3.10/dist-packages (from requests>=2.19.0->dgl==1.0.1) (2022.12.7)\n",
            "Requirement already satisfied: charset-normalizer~=2.0.0 in /usr/local/lib/python3.10/dist-packages (from requests>=2.19.0->dgl==1.0.1) (2.0.12)\n",
            "Requirement already satisfied: idna<4,>=2.5 in /usr/local/lib/python3.10/dist-packages (from requests>=2.19.0->dgl==1.0.1) (3.4)\n",
            "Looking in indexes: https://pypi.org/simple, https://us-python.pkg.dev/colab-wheels/public/simple/\n",
            "Requirement already satisfied: torch==2.0.0 in /usr/local/lib/python3.10/dist-packages (2.0.0+cu118)\n",
            "Requirement already satisfied: filelock in /usr/local/lib/python3.10/dist-packages (from torch==2.0.0) (3.12.0)\n",
            "Requirement already satisfied: typing-extensions in /usr/local/lib/python3.10/dist-packages (from torch==2.0.0) (4.5.0)\n",
            "Requirement already satisfied: sympy in /usr/local/lib/python3.10/dist-packages (from torch==2.0.0) (1.11.1)\n",
            "Requirement already satisfied: networkx in /usr/local/lib/python3.10/dist-packages (from torch==2.0.0) (2.8.8)\n",
            "Requirement already satisfied: jinja2 in /usr/local/lib/python3.10/dist-packages (from torch==2.0.0) (3.1.2)\n",
            "Requirement already satisfied: triton==2.0.0 in /usr/local/lib/python3.10/dist-packages (from torch==2.0.0) (2.0.0)\n",
            "Requirement already satisfied: cmake in /usr/local/lib/python3.10/dist-packages (from triton==2.0.0->torch==2.0.0) (3.25.2)\n",
            "Requirement already satisfied: lit in /usr/local/lib/python3.10/dist-packages (from triton==2.0.0->torch==2.0.0) (16.0.2)\n",
            "Requirement already satisfied: MarkupSafe>=2.0 in /usr/local/lib/python3.10/dist-packages (from jinja2->torch==2.0.0) (2.1.2)\n",
            "Requirement already satisfied: mpmath>=0.19 in /usr/local/lib/python3.10/dist-packages (from sympy->torch==2.0.0) (1.3.0)\n",
            "Looking in indexes: https://pypi.org/simple, https://us-python.pkg.dev/colab-wheels/public/simple/\n",
            "Requirement already satisfied: node2vec in /usr/local/lib/python3.10/dist-packages (0.4.6)\n",
            "Requirement already satisfied: gensim<5.0.0,>=4.1.2 in /usr/local/lib/python3.10/dist-packages (from node2vec) (4.3.1)\n",
            "Requirement already satisfied: joblib<2.0.0,>=1.1.0 in /usr/local/lib/python3.10/dist-packages (from node2vec) (1.2.0)\n",
            "Requirement already satisfied: networkx<3.0,>=2.5 in /usr/local/lib/python3.10/dist-packages (from node2vec) (2.8.8)\n",
            "Requirement already satisfied: numpy<2.0.0,>=1.19.5 in /usr/local/lib/python3.10/dist-packages (from node2vec) (1.22.4)\n",
            "Requirement already satisfied: tqdm<5.0.0,>=4.55.1 in /usr/local/lib/python3.10/dist-packages (from node2vec) (4.65.0)\n",
            "Requirement already satisfied: scipy>=1.7.0 in /usr/local/lib/python3.10/dist-packages (from gensim<5.0.0,>=4.1.2->node2vec) (1.10.1)\n",
            "Requirement already satisfied: smart-open>=1.8.1 in /usr/local/lib/python3.10/dist-packages (from gensim<5.0.0,>=4.1.2->node2vec) (6.3.0)\n"
          ]
        }
      ]
    },
    {
      "cell_type": "code",
      "source": [
        "import dgl\n",
        "import dgl.data\n",
        "import torch\n",
        "import torch.nn as nn\n",
        "import torch.nn.functional as F\n",
        "from dgl.nn import SAGEConv\n",
        "import dgl.function as fn\n",
        "import itertools\n",
        "import numpy as np\n",
        "import scipy.sparse as sp\n",
        "import sklearn.metrics\n",
        "from node2vec import Node2Vec\n",
        "from sklearn.model_selection import train_test_split\n",
        "from sklearn.linear_model import LogisticRegression\n",
        "from sklearn.metrics import roc_auc_score, accuracy_score, f1_score,roc_curve"
      ],
      "metadata": {
        "id": "0sjE3fIgMX-X"
      },
      "execution_count": null,
      "outputs": []
    },
    {
      "cell_type": "code",
      "source": [
        "dataset = dgl.data.CoraGraphDataset()\n",
        "g = dataset[0]"
      ],
      "metadata": {
        "colab": {
          "base_uri": "https://localhost:8080/"
        },
        "id": "4_YwBvbBO-8w",
        "outputId": "114e115c-2f25-4606-dea6-3e3e46c5564c"
      },
      "execution_count": null,
      "outputs": [
        {
          "output_type": "stream",
          "name": "stdout",
          "text": [
            "  NumNodes: 2708\n",
            "  NumEdges: 10556\n",
            "  NumFeats: 1433\n",
            "  NumClasses: 7\n",
            "  NumTrainingSamples: 140\n",
            "  NumValidationSamples: 500\n",
            "  NumTestSamples: 1000\n",
            "Done loading data from cached files.\n"
          ]
        }
      ]
    },
    {
      "cell_type": "code",
      "source": [
        "u, v = g.edges()"
      ],
      "metadata": {
        "id": "FDScyo1dO_kL"
      },
      "execution_count": null,
      "outputs": []
    },
    {
      "cell_type": "code",
      "source": [
        "edge_ids = np.arange(g.number_of_edges())\n",
        "edge_ids = np.random.permutation(edge_ids)\n",
        "test_size = int(len(edge_ids) * 0.1)\n",
        "train_size = g.number_of_edges() - test_size\n",
        "test_pos_u, test_pos_v = u[edge_ids[:test_size]], v[edge_ids[:test_size]]\n",
        "train_pos_u, train_pos_v = u[edge_ids[test_size:]], v[edge_ids[test_size:]]"
      ],
      "metadata": {
        "id": "MAaUDf1PP65e"
      },
      "execution_count": null,
      "outputs": []
    },
    {
      "cell_type": "code",
      "source": [
        "adj = sp.coo_matrix((np.ones(len(u)), (u.numpy(), v.numpy())))\n",
        "adj_neg = 1 - adj.todense() - np.eye(g.number_of_nodes())\n",
        "neg_u, neg_v = np.where(adj_neg != 0)\n",
        "\n",
        "neg_edge_ids = np.random.choice(len(neg_u), g.number_of_edges() // 2)\n",
        "test_neg_u, test_neg_v = neg_u[neg_edge_ids[:test_size]], neg_v[neg_edge_ids[:test_size]]\n",
        "train_neg_u, train_neg_v = neg_u[neg_edge_ids[test_size:]], neg_v[neg_edge_ids[test_size:]]"
      ],
      "metadata": {
        "id": "Y86LMbwZQhGf"
      },
      "execution_count": null,
      "outputs": []
    },
    {
      "cell_type": "code",
      "source": [
        "train_g = dgl.remove_edges(g, edge_ids[:test_size])"
      ],
      "metadata": {
        "id": "I25Uzj1eQvr6"
      },
      "execution_count": null,
      "outputs": []
    },
    {
      "cell_type": "code",
      "source": [
        "def get_optimal_threshold(tpr, fpr, thresholds):\n",
        "  g_means = tpr*(1-fpr)\n",
        "  max_index = np.argmax(g_means)\n",
        "  return thresholds[max_index]"
      ],
      "metadata": {
        "id": "0HecdUck48be"
      },
      "execution_count": null,
      "outputs": []
    },
    {
      "cell_type": "code",
      "source": [
        "def binarize_scores(scores, labels, optimal_threshold):\n",
        "  final_preds = []\n",
        "  for i in range(len(scores)):\n",
        "    if(scores[i]<=optimal_threshold):\n",
        "      final_preds.append(0)\n",
        "    else:\n",
        "      final_preds.append(1)\n",
        "  return np.asarray(final_preds)"
      ],
      "metadata": {
        "id": "6YJebiSI_H1P"
      },
      "execution_count": null,
      "outputs": []
    },
    {
      "cell_type": "markdown",
      "source": [
        "# Logistic Regression"
      ],
      "metadata": {
        "id": "t9mJuBRqo0Di"
      }
    },
    {
      "cell_type": "code",
      "source": [
        "train_u,train_v = train_g.edges()"
      ],
      "metadata": {
        "id": "nINi2qKxpg8k"
      },
      "execution_count": null,
      "outputs": []
    },
    {
      "cell_type": "code",
      "source": [
        "nx_g = dgl.to_networkx(train_g)\n",
        "node2vec = Node2Vec(nx_g, dimensions=100, walk_length=20,num_walks=20)"
      ],
      "metadata": {
        "colab": {
          "base_uri": "https://localhost:8080/",
          "height": 67,
          "referenced_widgets": [
            "3bb6ae5a39ad43b491a66662e7ceb5f3",
            "2d67080d1dd64cd7bbb07c28c9d4700d",
            "2b124a3f83324ea3b5bd26acf0f1dcba",
            "febae676d2e94f6aad575d37ddf13997",
            "2a28a86079a84c5abcc6e57ab67f2ca5",
            "ac421831c06244c097513646b78ca3a4",
            "756573f5b82645cc800a77f6975e71a2",
            "9937d253d5ca4c29a72e06408a762768",
            "9dc02b016d9c445e9fc4b2f14cfde12c",
            "712ae2d3f71441b2af67103b7019f10d",
            "ddd9d163d87944738e3aa3ffbd820de8"
          ]
        },
        "id": "SUFImWZ3jaAQ",
        "outputId": "ca4c0a78-b2a9-41ef-f25f-265bfb7abd3e"
      },
      "execution_count": null,
      "outputs": [
        {
          "output_type": "display_data",
          "data": {
            "text/plain": [
              "Computing transition probabilities:   0%|          | 0/2708 [00:00<?, ?it/s]"
            ],
            "application/vnd.jupyter.widget-view+json": {
              "version_major": 2,
              "version_minor": 0,
              "model_id": "3bb6ae5a39ad43b491a66662e7ceb5f3"
            }
          },
          "metadata": {}
        },
        {
          "output_type": "stream",
          "name": "stderr",
          "text": [
            "Generating walks (CPU: 1): 100%|██████████| 20/20 [00:07<00:00,  2.57it/s]\n"
          ]
        }
      ]
    },
    {
      "cell_type": "code",
      "source": [
        "# train node2vec model\n",
        "n2w_model = node2vec.fit(window=7, min_count=1)"
      ],
      "metadata": {
        "id": "ywZost9JmA6Y"
      },
      "execution_count": null,
      "outputs": []
    },
    {
      "cell_type": "code",
      "source": [
        "x = [(n2w_model.wv[str(i)]+n2w_model.wv[str(j)]) for i,j in zip(train_pos_u.tolist()+train_neg_u.tolist(),train_pos_v.tolist()+train_neg_v.tolist())]"
      ],
      "metadata": {
        "id": "iQc7VZI4mWlC"
      },
      "execution_count": null,
      "outputs": []
    },
    {
      "cell_type": "code",
      "source": [
        "link_data = [1]*len(train_pos_u.tolist())+[0]*len(train_neg_u.tolist())"
      ],
      "metadata": {
        "id": "vgwjGIgzr-ky"
      },
      "execution_count": null,
      "outputs": []
    },
    {
      "cell_type": "code",
      "source": [
        "xtrain, xtest, ytrain, ytest = sklearn.model_selection.train_test_split(np.array(x), link_data, test_size = 0.3, random_state = 35)"
      ],
      "metadata": {
        "id": "aopCnPgTsaM3"
      },
      "execution_count": null,
      "outputs": []
    },
    {
      "cell_type": "code",
      "source": [
        "lr = LogisticRegression(class_weight=\"balanced\")\n",
        "lr.fit(xtrain, ytrain)"
      ],
      "metadata": {
        "colab": {
          "base_uri": "https://localhost:8080/",
          "height": 75
        },
        "id": "fKYarNAawkXZ",
        "outputId": "04680d93-d3e0-47d2-9dd5-dcfd00fe9959"
      },
      "execution_count": null,
      "outputs": [
        {
          "output_type": "execute_result",
          "data": {
            "text/plain": [
              "LogisticRegression(class_weight='balanced')"
            ],
            "text/html": [
              "<style>#sk-container-id-2 {color: black;background-color: white;}#sk-container-id-2 pre{padding: 0;}#sk-container-id-2 div.sk-toggleable {background-color: white;}#sk-container-id-2 label.sk-toggleable__label {cursor: pointer;display: block;width: 100%;margin-bottom: 0;padding: 0.3em;box-sizing: border-box;text-align: center;}#sk-container-id-2 label.sk-toggleable__label-arrow:before {content: \"▸\";float: left;margin-right: 0.25em;color: #696969;}#sk-container-id-2 label.sk-toggleable__label-arrow:hover:before {color: black;}#sk-container-id-2 div.sk-estimator:hover label.sk-toggleable__label-arrow:before {color: black;}#sk-container-id-2 div.sk-toggleable__content {max-height: 0;max-width: 0;overflow: hidden;text-align: left;background-color: #f0f8ff;}#sk-container-id-2 div.sk-toggleable__content pre {margin: 0.2em;color: black;border-radius: 0.25em;background-color: #f0f8ff;}#sk-container-id-2 input.sk-toggleable__control:checked~div.sk-toggleable__content {max-height: 200px;max-width: 100%;overflow: auto;}#sk-container-id-2 input.sk-toggleable__control:checked~label.sk-toggleable__label-arrow:before {content: \"▾\";}#sk-container-id-2 div.sk-estimator input.sk-toggleable__control:checked~label.sk-toggleable__label {background-color: #d4ebff;}#sk-container-id-2 div.sk-label input.sk-toggleable__control:checked~label.sk-toggleable__label {background-color: #d4ebff;}#sk-container-id-2 input.sk-hidden--visually {border: 0;clip: rect(1px 1px 1px 1px);clip: rect(1px, 1px, 1px, 1px);height: 1px;margin: -1px;overflow: hidden;padding: 0;position: absolute;width: 1px;}#sk-container-id-2 div.sk-estimator {font-family: monospace;background-color: #f0f8ff;border: 1px dotted black;border-radius: 0.25em;box-sizing: border-box;margin-bottom: 0.5em;}#sk-container-id-2 div.sk-estimator:hover {background-color: #d4ebff;}#sk-container-id-2 div.sk-parallel-item::after {content: \"\";width: 100%;border-bottom: 1px solid gray;flex-grow: 1;}#sk-container-id-2 div.sk-label:hover label.sk-toggleable__label {background-color: #d4ebff;}#sk-container-id-2 div.sk-serial::before {content: \"\";position: absolute;border-left: 1px solid gray;box-sizing: border-box;top: 0;bottom: 0;left: 50%;z-index: 0;}#sk-container-id-2 div.sk-serial {display: flex;flex-direction: column;align-items: center;background-color: white;padding-right: 0.2em;padding-left: 0.2em;position: relative;}#sk-container-id-2 div.sk-item {position: relative;z-index: 1;}#sk-container-id-2 div.sk-parallel {display: flex;align-items: stretch;justify-content: center;background-color: white;position: relative;}#sk-container-id-2 div.sk-item::before, #sk-container-id-2 div.sk-parallel-item::before {content: \"\";position: absolute;border-left: 1px solid gray;box-sizing: border-box;top: 0;bottom: 0;left: 50%;z-index: -1;}#sk-container-id-2 div.sk-parallel-item {display: flex;flex-direction: column;z-index: 1;position: relative;background-color: white;}#sk-container-id-2 div.sk-parallel-item:first-child::after {align-self: flex-end;width: 50%;}#sk-container-id-2 div.sk-parallel-item:last-child::after {align-self: flex-start;width: 50%;}#sk-container-id-2 div.sk-parallel-item:only-child::after {width: 0;}#sk-container-id-2 div.sk-dashed-wrapped {border: 1px dashed gray;margin: 0 0.4em 0.5em 0.4em;box-sizing: border-box;padding-bottom: 0.4em;background-color: white;}#sk-container-id-2 div.sk-label label {font-family: monospace;font-weight: bold;display: inline-block;line-height: 1.2em;}#sk-container-id-2 div.sk-label-container {text-align: center;}#sk-container-id-2 div.sk-container {/* jupyter's `normalize.less` sets `[hidden] { display: none; }` but bootstrap.min.css set `[hidden] { display: none !important; }` so we also need the `!important` here to be able to override the default hidden behavior on the sphinx rendered scikit-learn.org. See: https://github.com/scikit-learn/scikit-learn/issues/21755 */display: inline-block !important;position: relative;}#sk-container-id-2 div.sk-text-repr-fallback {display: none;}</style><div id=\"sk-container-id-2\" class=\"sk-top-container\"><div class=\"sk-text-repr-fallback\"><pre>LogisticRegression(class_weight=&#x27;balanced&#x27;)</pre><b>In a Jupyter environment, please rerun this cell to show the HTML representation or trust the notebook. <br />On GitHub, the HTML representation is unable to render, please try loading this page with nbviewer.org.</b></div><div class=\"sk-container\" hidden><div class=\"sk-item\"><div class=\"sk-estimator sk-toggleable\"><input class=\"sk-toggleable__control sk-hidden--visually\" id=\"sk-estimator-id-2\" type=\"checkbox\" checked><label for=\"sk-estimator-id-2\" class=\"sk-toggleable__label sk-toggleable__label-arrow\">LogisticRegression</label><div class=\"sk-toggleable__content\"><pre>LogisticRegression(class_weight=&#x27;balanced&#x27;)</pre></div></div></div></div></div>"
            ]
          },
          "metadata": {},
          "execution_count": 77
        }
      ]
    },
    {
      "cell_type": "code",
      "source": [
        "predictions_node2vec = lr.predict_proba(xtest)"
      ],
      "metadata": {
        "id": "ncdvNFdB1Rey"
      },
      "execution_count": null,
      "outputs": []
    },
    {
      "cell_type": "code",
      "source": [
        "auc_score = roc_auc_score(ytest, predictions_node2vec[:,1])\n",
        "tpr, fpr, thresholds = roc_curve(ytest, predictions_node2vec[:,1])"
      ],
      "metadata": {
        "id": "nS6f8Wet1dOi"
      },
      "execution_count": null,
      "outputs": []
    },
    {
      "cell_type": "code",
      "source": [
        "optimal_threshold = get_optimal_threshold(tpr, fpr, thresholds)\n",
        "binarized_preds = binarize_scores(predictions_node2vec[:,1], ytest, optimal_threshold)"
      ],
      "metadata": {
        "id": "Xuh-KsVrRSq5"
      },
      "execution_count": null,
      "outputs": []
    },
    {
      "cell_type": "code",
      "source": [
        "print('AUC', auc_score)\n",
        "print(\"accuracy: \",sklearn.metrics.accuracy_score(ytest,binarized_preds))\n",
        "print(\"F-measure: \",sklearn.metrics.f1_score(ytest,binarized_preds))\n",
        "print(\"Precision: \",sklearn.metrics.precision_score(ytest,binarized_preds) )\n",
        "print(\"Recall: \",sklearn.metrics.recall_score(ytest,binarized_preds))"
      ],
      "metadata": {
        "colab": {
          "base_uri": "https://localhost:8080/"
        },
        "id": "c71t5Lr5V9ky",
        "outputId": "55dae0fd-f2cf-4f7e-c8dd-3712e1770abb"
      },
      "execution_count": null,
      "outputs": [
        {
          "output_type": "stream",
          "name": "stdout",
          "text": [
            "AUC 0.595001892501439\n",
            "accuracy:  0.5706653715395823\n",
            "F-measure:  0.6609129267357116\n",
            "Precision:  0.7369546621043627\n",
            "Recall:  0.599095966620306\n"
          ]
        }
      ]
    },
    {
      "cell_type": "markdown",
      "source": [
        "# GCN\n",
        "\n",
        "\n",
        "\n"
      ],
      "metadata": {
        "id": "0-SmZsQprWB-"
      }
    },
    {
      "cell_type": "code",
      "source": [
        "class GCN(nn.Module):\n",
        "    def __init__(self, in_feats, h_feats):\n",
        "        super(GCN, self).__init__()\n",
        "        self.conv1 = GraphConv(in_feats, h_feats)\n",
        "        self.conv2 = GraphConv(h_feats, h_feats)\n",
        "    \n",
        "    def forward(self, g, in_feat):\n",
        "        h = self.conv1(g, in_feat)\n",
        "        h = F.relu(h)\n",
        "        h = self.conv2(g, h)\n",
        "        return h"
      ],
      "metadata": {
        "id": "Ogbs_j4VrfrN"
      },
      "execution_count": null,
      "outputs": []
    },
    {
      "cell_type": "code",
      "source": [
        "train_pos_g = dgl.graph((train_pos_u, train_pos_v), num_nodes=g.number_of_nodes())\n",
        "train_neg_g = dgl.graph((train_neg_u, train_neg_v), num_nodes=g.number_of_nodes())\n",
        "\n",
        "test_pos_g = dgl.graph((test_pos_u, test_pos_v), num_nodes=g.number_of_nodes())\n",
        "test_neg_g = dgl.graph((test_neg_u, test_neg_v), num_nodes=g.number_of_nodes())"
      ],
      "metadata": {
        "id": "GiYbue_ErleH"
      },
      "execution_count": null,
      "outputs": []
    },
    {
      "cell_type": "code",
      "source": [
        "class SumPredictor(nn.Module):\n",
        "    def forward(self, g, h):\n",
        "        with g.local_scope():\n",
        "            g.ndata['h'] = h\n",
        "            # computing score\n",
        "            g.apply_edges(lambda edges: {'score': torch.sum(edges.src['h'] + edges.dst['h'], dim=-1)})\n",
        "            return g.edata['score']\n"
      ],
      "metadata": {
        "id": "Gzt9BdAYtF8V"
      },
      "execution_count": null,
      "outputs": []
    },
    {
      "cell_type": "code",
      "source": [
        "from dgl.nn import GraphConv\n",
        "model = GCN(train_g.ndata['feat'].shape[1], 16)\n",
        "pred = SumPredictor()\n",
        "\n",
        "def compute_loss(pos_score, neg_score):\n",
        "    scores = torch.cat([pos_score, neg_score])\n",
        "    labels = torch.cat([torch.ones(pos_score.shape[0]), torch.zeros(neg_score.shape[0])])\n",
        "    return F.binary_cross_entropy_with_logits(scores, labels)\n",
        "\n",
        "def compute_auc(pos_score, neg_score):\n",
        "    scores = torch.cat([pos_score, neg_score]).numpy()\n",
        "    labels = torch.cat([torch.ones(pos_score.shape[0]), torch.zeros(neg_score.shape[0])]).numpy()\n",
        "    return roc_auc_score(labels, scores),scores,labels, roc_curve(labels, scores)"
      ],
      "metadata": {
        "id": "k2wAiJ5vtL1n"
      },
      "execution_count": null,
      "outputs": []
    },
    {
      "cell_type": "code",
      "source": [
        "import dgl\n",
        "\n",
        "# add self-loops to the graph\n",
        "train_g = dgl.add_self_loop(train_g)\n",
        "\n",
        "# define optimizer\n",
        "optimizer = torch.optim.Adam(itertools.chain(model.parameters(), pred.parameters()), lr=0.01)\n",
        "\n",
        "# train the model\n",
        "all_logits = []\n",
        "for e in range(100):\n",
        "    h = model(train_g, train_g.ndata['feat'])\n",
        "    pos_score = pred(train_pos_g, h)\n",
        "    neg_score = pred(train_neg_g, h)\n",
        "    loss = compute_loss(pos_score, neg_score)\n",
        "    \n",
        "    optimizer.zero_grad()\n",
        "    loss.backward()\n",
        "    optimizer.step()\n",
        "    \n",
        "    if e % 5 == 0:\n",
        "        print('In epoch ',e,' loss: ', loss)\n"
      ],
      "metadata": {
        "colab": {
          "base_uri": "https://localhost:8080/"
        },
        "id": "FEKy1iihwGi2",
        "outputId": "b2492912-ec16-46f6-9098-9daf9b68f952"
      },
      "execution_count": null,
      "outputs": [
        {
          "output_type": "stream",
          "name": "stdout",
          "text": [
            "In epoch  0  loss:  tensor(0.6917, grad_fn=<BinaryCrossEntropyWithLogitsBackward0>)\n"
          ]
        },
        {
          "output_type": "stream",
          "name": "stderr",
          "text": [
            "/usr/local/lib/python3.10/dist-packages/dgl/backend/pytorch/tensor.py:445: UserWarning: TypedStorage is deprecated. It will be removed in the future and UntypedStorage will be the only storage class. This should only matter to you if you are using storages directly.  To access UntypedStorage directly, use tensor.untyped_storage() instead of tensor.storage()\n",
            "  assert input.numel() == input.storage().size(), (\n"
          ]
        },
        {
          "output_type": "stream",
          "name": "stdout",
          "text": [
            "In epoch  5  loss:  tensor(0.5894, grad_fn=<BinaryCrossEntropyWithLogitsBackward0>)\n",
            "In epoch  10  loss:  tensor(0.5819, grad_fn=<BinaryCrossEntropyWithLogitsBackward0>)\n",
            "In epoch  15  loss:  tensor(0.5711, grad_fn=<BinaryCrossEntropyWithLogitsBackward0>)\n",
            "In epoch  20  loss:  tensor(0.5562, grad_fn=<BinaryCrossEntropyWithLogitsBackward0>)\n",
            "In epoch  25  loss:  tensor(0.5417, grad_fn=<BinaryCrossEntropyWithLogitsBackward0>)\n",
            "In epoch  30  loss:  tensor(0.5286, grad_fn=<BinaryCrossEntropyWithLogitsBackward0>)\n",
            "In epoch  35  loss:  tensor(0.5186, grad_fn=<BinaryCrossEntropyWithLogitsBackward0>)\n",
            "In epoch  40  loss:  tensor(0.5121, grad_fn=<BinaryCrossEntropyWithLogitsBackward0>)\n",
            "In epoch  45  loss:  tensor(0.5058, grad_fn=<BinaryCrossEntropyWithLogitsBackward0>)\n",
            "In epoch  50  loss:  tensor(0.5013, grad_fn=<BinaryCrossEntropyWithLogitsBackward0>)\n",
            "In epoch  55  loss:  tensor(0.4974, grad_fn=<BinaryCrossEntropyWithLogitsBackward0>)\n",
            "In epoch  60  loss:  tensor(0.4946, grad_fn=<BinaryCrossEntropyWithLogitsBackward0>)\n",
            "In epoch  65  loss:  tensor(0.4921, grad_fn=<BinaryCrossEntropyWithLogitsBackward0>)\n",
            "In epoch  70  loss:  tensor(0.4899, grad_fn=<BinaryCrossEntropyWithLogitsBackward0>)\n",
            "In epoch  75  loss:  tensor(0.4881, grad_fn=<BinaryCrossEntropyWithLogitsBackward0>)\n",
            "In epoch  80  loss:  tensor(0.4865, grad_fn=<BinaryCrossEntropyWithLogitsBackward0>)\n",
            "In epoch  85  loss:  tensor(0.4851, grad_fn=<BinaryCrossEntropyWithLogitsBackward0>)\n",
            "In epoch  90  loss:  tensor(0.4838, grad_fn=<BinaryCrossEntropyWithLogitsBackward0>)\n",
            "In epoch  95  loss:  tensor(0.4826, grad_fn=<BinaryCrossEntropyWithLogitsBackward0>)\n"
          ]
        }
      ]
    },
    {
      "cell_type": "code",
      "source": [
        "with torch.no_grad():\n",
        "    pos_score = pred(test_pos_g, h)\n",
        "    neg_score = pred(test_neg_g, h)\n",
        "    auc_score, scores, labels, (tpr, fpr, thresholds) = compute_auc(pos_score, neg_score)\n",
        "    opt_threshold = get_optimal_threshold(tpr, fpr, thresholds)\n",
        "    binarized_preds = binarize_scores(scores,labels, opt_threshold)\n",
        "    print('AUC', auc_score)\n",
        "    print(\"accuracy: \",sklearn.metrics.accuracy_score(labels,binarized_preds))\n",
        "    print(\"F-measure: \",sklearn.metrics.f1_score(labels,binarized_preds))\n",
        "    print(\"Precision: \",sklearn.metrics.precision_score(labels,binarized_preds) )\n",
        "    print(\"Recall: \",sklearn.metrics.recall_score(labels,binarized_preds))"
      ],
      "metadata": {
        "colab": {
          "base_uri": "https://localhost:8080/"
        },
        "id": "JJZhgZ02tMDm",
        "outputId": "d6029a53-51ff-4dec-d6af-19ba7236eb8c"
      },
      "execution_count": null,
      "outputs": [
        {
          "output_type": "stream",
          "name": "stdout",
          "text": [
            "AUC 0.724758203993621\n",
            "accuracy:  0.6440758293838863\n",
            "F-measure:  0.6727668845315904\n",
            "Precision:  0.6225806451612903\n",
            "Recall:  0.7317535545023697\n"
          ]
        }
      ]
    },
    {
      "cell_type": "markdown",
      "source": [
        "# GraphSAGE"
      ],
      "metadata": {
        "id": "IXBt_oqcpFt5"
      }
    },
    {
      "cell_type": "code",
      "source": [
        "class GraphSAGE(nn.Module):\n",
        "    def __init__(self, in_feats, h_feats):\n",
        "        super(GraphSAGE, self).__init__()\n",
        "        self.conv1 = SAGEConv(in_feats, h_feats, 'mean')\n",
        "        self.conv2 = SAGEConv(h_feats, h_feats, 'mean')\n",
        "    \n",
        "    def forward(self, g, in_feat):\n",
        "        h = self.conv1(g, in_feat)\n",
        "        h = F.relu(h)\n",
        "        h = self.conv2(g, h)\n",
        "        return h"
      ],
      "metadata": {
        "id": "Y7d4Z2suQwSY"
      },
      "execution_count": null,
      "outputs": []
    },
    {
      "cell_type": "code",
      "source": [
        "train_pos_g = dgl.graph((train_pos_u, train_pos_v), num_nodes=g.number_of_nodes())\n",
        "train_neg_g = dgl.graph((train_neg_u, train_neg_v), num_nodes=g.number_of_nodes())\n",
        "\n",
        "test_pos_g = dgl.graph((test_pos_u, test_pos_v), num_nodes=g.number_of_nodes())\n",
        "test_neg_g = dgl.graph((test_neg_u, test_neg_v), num_nodes=g.number_of_nodes())"
      ],
      "metadata": {
        "id": "GUJEiXGpTxmp"
      },
      "execution_count": null,
      "outputs": []
    },
    {
      "cell_type": "code",
      "source": [
        "class DotPredictor(nn.Module):\n",
        "    def forward(self, g, h):\n",
        "        with g.local_scope():\n",
        "            g.ndata['h'] = h\n",
        "            #computing score\n",
        "            g.apply_edges(fn.u_dot_v('h', 'h', 'score'))\n",
        "            return g.edata['score'][:, 0]"
      ],
      "metadata": {
        "id": "tRrghXXxTyHm"
      },
      "execution_count": null,
      "outputs": []
    },
    {
      "cell_type": "code",
      "source": [
        "model = GraphSAGE(train_g.ndata['feat'].shape[1], 16)\n",
        "pred = DotPredictor()\n",
        "\n",
        "def compute_loss(pos_score, neg_score):\n",
        "    scores = torch.cat([pos_score, neg_score])\n",
        "    labels = torch.cat([torch.ones(pos_score.shape[0]), torch.zeros(neg_score.shape[0])])\n",
        "    return F.binary_cross_entropy_with_logits(scores, labels)\n",
        "\n",
        "def compute_auc(pos_score, neg_score):\n",
        "    scores = torch.cat([pos_score, neg_score]).numpy()\n",
        "    labels = torch.cat([torch.ones(pos_score.shape[0]), torch.zeros(neg_score.shape[0])]).numpy()\n",
        "    return roc_auc_score(labels, scores),scores,labels, roc_curve(labels, scores)"
      ],
      "metadata": {
        "id": "ngpDNne9T4Zt"
      },
      "execution_count": null,
      "outputs": []
    },
    {
      "cell_type": "code",
      "source": [
        "optimizer = torch.optim.Adam(itertools.chain(model.parameters(), pred.parameters()), lr=0.01)\n",
        "\n",
        "all_logits = []\n",
        "for e in range(100):\n",
        "    h = model(train_g, train_g.ndata['feat'])\n",
        "    pos_score = pred(train_pos_g, h)\n",
        "    neg_score = pred(train_neg_g, h)\n",
        "    loss = compute_loss(pos_score, neg_score)\n",
        "    \n",
        "    optimizer.zero_grad()\n",
        "    loss.backward()\n",
        "    optimizer.step()\n",
        "    \n",
        "    if e % 5 == 0:\n",
        "        print('In epoch ',e,' loss: ', loss)"
      ],
      "metadata": {
        "colab": {
          "base_uri": "https://localhost:8080/"
        },
        "id": "yeP17KG3T7yC",
        "outputId": "078a94ee-b141-4b0b-fbe2-7af8edafa477"
      },
      "execution_count": null,
      "outputs": [
        {
          "output_type": "stream",
          "name": "stdout",
          "text": [
            "In epoch  0  loss:  tensor(0.6593, grad_fn=<BinaryCrossEntropyWithLogitsBackward0>)\n"
          ]
        },
        {
          "output_type": "stream",
          "name": "stderr",
          "text": [
            "/usr/local/lib/python3.10/dist-packages/dgl/backend/pytorch/tensor.py:445: UserWarning: TypedStorage is deprecated. It will be removed in the future and UntypedStorage will be the only storage class. This should only matter to you if you are using storages directly.  To access UntypedStorage directly, use tensor.untyped_storage() instead of tensor.storage()\n",
            "  assert input.numel() == input.storage().size(), (\n"
          ]
        },
        {
          "output_type": "stream",
          "name": "stdout",
          "text": [
            "In epoch  5  loss:  tensor(0.6163, grad_fn=<BinaryCrossEntropyWithLogitsBackward0>)\n",
            "In epoch  10  loss:  tensor(0.6056, grad_fn=<BinaryCrossEntropyWithLogitsBackward0>)\n",
            "In epoch  15  loss:  tensor(0.5887, grad_fn=<BinaryCrossEntropyWithLogitsBackward0>)\n",
            "In epoch  20  loss:  tensor(0.5671, grad_fn=<BinaryCrossEntropyWithLogitsBackward0>)\n",
            "In epoch  25  loss:  tensor(0.5369, grad_fn=<BinaryCrossEntropyWithLogitsBackward0>)\n",
            "In epoch  30  loss:  tensor(0.4941, grad_fn=<BinaryCrossEntropyWithLogitsBackward0>)\n",
            "In epoch  35  loss:  tensor(0.4536, grad_fn=<BinaryCrossEntropyWithLogitsBackward0>)\n",
            "In epoch  40  loss:  tensor(0.4143, grad_fn=<BinaryCrossEntropyWithLogitsBackward0>)\n",
            "In epoch  45  loss:  tensor(0.3783, grad_fn=<BinaryCrossEntropyWithLogitsBackward0>)\n",
            "In epoch  50  loss:  tensor(0.3489, grad_fn=<BinaryCrossEntropyWithLogitsBackward0>)\n",
            "In epoch  55  loss:  tensor(0.3264, grad_fn=<BinaryCrossEntropyWithLogitsBackward0>)\n",
            "In epoch  60  loss:  tensor(0.3067, grad_fn=<BinaryCrossEntropyWithLogitsBackward0>)\n",
            "In epoch  65  loss:  tensor(0.2888, grad_fn=<BinaryCrossEntropyWithLogitsBackward0>)\n",
            "In epoch  70  loss:  tensor(0.2726, grad_fn=<BinaryCrossEntropyWithLogitsBackward0>)\n",
            "In epoch  75  loss:  tensor(0.2572, grad_fn=<BinaryCrossEntropyWithLogitsBackward0>)\n",
            "In epoch  80  loss:  tensor(0.2420, grad_fn=<BinaryCrossEntropyWithLogitsBackward0>)\n",
            "In epoch  85  loss:  tensor(0.2263, grad_fn=<BinaryCrossEntropyWithLogitsBackward0>)\n",
            "In epoch  90  loss:  tensor(0.2102, grad_fn=<BinaryCrossEntropyWithLogitsBackward0>)\n",
            "In epoch  95  loss:  tensor(0.1938, grad_fn=<BinaryCrossEntropyWithLogitsBackward0>)\n"
          ]
        }
      ]
    },
    {
      "cell_type": "code",
      "source": [
        "with torch.no_grad():\n",
        "    pos_score = pred(test_pos_g, h)\n",
        "    neg_score = pred(test_neg_g, h)\n",
        "    auc_score, scores, labels, (tpr, fpr, thresholds) = compute_auc(pos_score, neg_score)\n",
        "    opt_threshold = get_optimal_threshold(tpr, fpr, thresholds)\n",
        "    binarized_preds = binarize_scores(scores,labels, opt_threshold)\n",
        "    print('AUC', auc_score)\n",
        "    print(\"accuracy: \",sklearn.metrics.accuracy_score(labels,binarized_preds))\n",
        "    print(\"F-measure: \",sklearn.metrics.f1_score(labels,binarized_preds))\n",
        "    print(\"Precision: \",sklearn.metrics.precision_score(labels,binarized_preds) )\n",
        "    print(\"Recall: \",sklearn.metrics.recall_score(labels,binarized_preds))"
      ],
      "metadata": {
        "id": "UskcocE_T_uC",
        "colab": {
          "base_uri": "https://localhost:8080/"
        },
        "outputId": "66d7a945-386e-44c5-c188-74607214252c"
      },
      "execution_count": null,
      "outputs": [
        {
          "output_type": "stream",
          "name": "stdout",
          "text": [
            "AUC 0.8357314525729431\n",
            "accuracy:  0.7213270142180095\n",
            "F-measure:  0.6872340425531915\n",
            "Precision:  0.7830303030303031\n",
            "Recall:  0.6123222748815166\n"
          ]
        }
      ]
    },
    {
      "cell_type": "markdown",
      "source": [
        "# EDA"
      ],
      "metadata": {
        "id": "j4qa3Z4FVxQG"
      }
    },
    {
      "cell_type": "code",
      "source": [
        "import networkx as nx\n",
        "import matplotlib.pyplot as plt\n",
        "import pandas as pd\n",
        "G = nx.Graph()"
      ],
      "metadata": {
        "id": "REonGUaxVyb8"
      },
      "execution_count": null,
      "outputs": []
    },
    {
      "cell_type": "code",
      "source": [
        "# read data\n",
        "df = pd.read_csv(\"cites.csv\")\n",
        "df_paper = pd.read_csv(\"paper.csv\")"
      ],
      "metadata": {
        "id": "leG5F6DuWovK"
      },
      "execution_count": null,
      "outputs": []
    },
    {
      "cell_type": "code",
      "source": [
        "color_dict = {'Genetic_Algorithms':'green','Reinforcement_Learning':'red','Theory':'teal','Rule_Learning':'blue','Case_Based':'yellow','Probabilistic_Methods':'pink','Neural_Networks':'orange'}\n",
        "nodes_dict = {}\n",
        "\n",
        "nodes_list = df_paper.apply(lambda x: [x[0],x[1]],axis=1)\n",
        "for item in nodes_list:\n",
        "  nodes_dict[item[0]] = item[1]"
      ],
      "metadata": {
        "id": "XASQcV-zXnmu"
      },
      "execution_count": null,
      "outputs": []
    },
    {
      "cell_type": "code",
      "source": [
        "color_map=[]\n",
        "\n",
        "for node in G:\n",
        "  color_map.append(color_dict[nodes_dict[node]])"
      ],
      "metadata": {
        "id": "Vnpi_A93mGv0"
      },
      "execution_count": null,
      "outputs": []
    },
    {
      "cell_type": "code",
      "source": [
        "edges = list(df.apply(lambda x: (x[0],x[1]),axis=1))"
      ],
      "metadata": {
        "id": "ba72BDvFWuX3"
      },
      "execution_count": null,
      "outputs": []
    },
    {
      "cell_type": "code",
      "source": [
        "G.add_edges_from(edges)"
      ],
      "metadata": {
        "id": "pgiH8H1oVze1"
      },
      "execution_count": null,
      "outputs": []
    },
    {
      "cell_type": "code",
      "source": [
        "plt.figure(3,figsize=(15,15))\n",
        "nx.draw(G, node_color=color_map)\n",
        "plt.show()"
      ],
      "metadata": {
        "id": "5PfJqXPgWRf5",
        "colab": {
          "base_uri": "https://localhost:8080/",
          "height": 1000
        },
        "outputId": "1cd97f7a-5412-41cd-ca8b-d5ca7ff982eb"
      },
      "execution_count": null,
      "outputs": [
        {
          "output_type": "display_data",
          "data": {
            "text/plain": [
              "<Figure size 1500x1500 with 1 Axes>"
            ],
            "image/png": "[encoded data removed]"
          },
          "metadata": {}
        }
      ]
    },
    {
      "cell_type": "code",
      "source": [
        "G.number_of_nodes()"
      ],
      "metadata": {
        "id": "vy1A_1Rl6ha0",
        "colab": {
          "base_uri": "https://localhost:8080/"
        },
        "outputId": "e865001d-c170-4404-d54b-eccc3035b81d"
      },
      "execution_count": null,
      "outputs": [
        {
          "output_type": "execute_result",
          "data": {
            "text/plain": [
              "2708"
            ]
          },
          "metadata": {},
          "execution_count": 105
        }
      ]
    },
    {
      "cell_type": "code",
      "source": [
        "depths_graph = nx.shortest_path_length(G)\n",
        "max_clique_size = nx.algorithms.clique.graph_clique_number(G)\n",
        "max_clique_size"
      ],
      "metadata": {
        "id": "jZuopGc1isLJ",
        "colab": {
          "base_uri": "https://localhost:8080/"
        },
        "outputId": "7bbb7b54-901d-4a76-84a6-27c3222772f4"
      },
      "execution_count": null,
      "outputs": [
        {
          "output_type": "execute_result",
          "data": {
            "text/plain": [
              "5"
            ]
          },
          "metadata": {},
          "execution_count": 106
        }
      ]
    },
    {
      "cell_type": "code",
      "source": [
        "import plotly.express as px"
      ],
      "metadata": {
        "id": "XxGSEHlDtG9e"
      },
      "execution_count": null,
      "outputs": []
    },
    {
      "cell_type": "code",
      "source": [
        "counts_df = df_paper.groupby('class_label').size().to_frame('count')"
      ],
      "metadata": {
        "id": "miG9vrW3wUac"
      },
      "execution_count": null,
      "outputs": []
    },
    {
      "cell_type": "code",
      "source": [
        "counts_df = counts_df.reset_index()"
      ],
      "metadata": {
        "id": "ARphWrc5w0ks"
      },
      "execution_count": null,
      "outputs": []
    },
    {
      "cell_type": "code",
      "source": [
        "fig = px.bar(counts_df, x='class_label', y='count',text_auto='.2s',title=\"Counts of papers in each class\")\n",
        "fig.show()"
      ],
      "metadata": {
        "id": "gEiVsvDjwBTa",
        "colab": {
          "base_uri": "https://localhost:8080/",
          "height": 542
        },
        "outputId": "cd6b4b65-56fc-4b69-91a6-c5f9dc5b667e"
      },
      "execution_count": null,
      "outputs": [
        {
          "output_type": "display_data",
          "data": {
            "text/html": [
              "<html>\n",
              "<head><meta charset=\"utf-8\" /></head>\n",
              "<body>\n",
              "    <div>            <script src=\"https://cdnjs.cloudflare.com/ajax/libs/mathjax/2.7.5/MathJax.js?config=TeX-AMS-MML_SVG\"></script><script type=\"text/javascript\">if (window.MathJax && window.MathJax.Hub && window.MathJax.Hub.Config) {window.MathJax.Hub.Config({SVG: {font: \"STIX-Web\"}});}</script>                <script type=\"text/javascript\">window.PlotlyConfig = {MathJaxConfig: 'local'};</script>\n",
              "        <script src=\"https://cdn.plot.ly/plotly-2.18.2.min.js\"></script>                <div id=\"75cb9ef1-28ac-4d48-991a-361afd03cdaa\" class=\"plotly-graph-div\" style=\"height:525px; width:100%;\"></div>            <script type=\"text/javascript\">                                    window.PLOTLYENV=window.PLOTLYENV || {};                                    if (document.getElementById(\"75cb9ef1-28ac-4d48-991a-361afd03cdaa\")) {                    Plotly.newPlot(                        \"75cb9ef1-28ac-4d48-991a-361afd03cdaa\",                        [{\"alignmentgroup\":\"True\",\"hovertemplate\":\"class_label=%{x}<br>count=%{y}<extra></extra>\",\"legendgroup\":\"\",\"marker\":{\"color\":\"#636efa\",\"pattern\":{\"shape\":\"\"}},\"name\":\"\",\"offsetgroup\":\"\",\"orientation\":\"v\",\"showlegend\":false,\"textposition\":\"auto\",\"texttemplate\":\"%{y:.2s}\",\"x\":[\"Case_Based\",\"Genetic_Algorithms\",\"Neural_Networks\",\"Probabilistic_Methods\",\"Reinforcement_Learning\",\"Rule_Learning\",\"Theory\"],\"xaxis\":\"x\",\"y\":[298,418,818,426,217,180,351],\"yaxis\":\"y\",\"type\":\"bar\"}],                        {\"template\":{\"data\":{\"histogram2dcontour\":[{\"type\":\"histogram2dcontour\",\"colorbar\":{\"outlinewidth\":0,\"ticks\":\"\"},\"colorscale\":[[0.0,\"#0d0887\"],[0.1111111111111111,\"#46039f\"],[0.2222222222222222,\"#7201a8\"],[0.3333333333333333,\"#9c179e\"],[0.4444444444444444,\"#bd3786\"],[0.5555555555555556,\"#d8576b\"],[0.6666666666666666,\"#ed7953\"],[0.7777777777777778,\"#fb9f3a\"],[0.8888888888888888,\"#fdca26\"],[1.0,\"#f0f921\"]]}],\"choropleth\":[{\"type\":\"choropleth\",\"colorbar\":{\"outlinewidth\":0,\"ticks\":\"\"}}],\"histogram2d\":[{\"type\":\"histogram2d\",\"colorbar\":{\"outlinewidth\":0,\"ticks\":\"\"},\"colorscale\":[[0.0,\"#0d0887\"],[0.1111111111111111,\"#46039f\"],[0.2222222222222222,\"#7201a8\"],[0.3333333333333333,\"#9c179e\"],[0.4444444444444444,\"#bd3786\"],[0.5555555555555556,\"#d8576b\"],[0.6666666666666666,\"#ed7953\"],[0.7777777777777778,\"#fb9f3a\"],[0.8888888888888888,\"#fdca26\"],[1.0,\"#f0f921\"]]}],\"heatmap\":[{\"type\":\"heatmap\",\"colorbar\":{\"outlinewidth\":0,\"ticks\":\"\"},\"colorscale\":[[0.0,\"#0d0887\"],[0.1111111111111111,\"#46039f\"],[0.2222222222222222,\"#7201a8\"],[0.3333333333333333,\"#9c179e\"],[0.4444444444444444,\"#bd3786\"],[0.5555555555555556,\"#d8576b\"],[0.6666666666666666,\"#ed7953\"],[0.7777777777777778,\"#fb9f3a\"],[0.8888888888888888,\"#fdca26\"],[1.0,\"#f0f921\"]]}],\"heatmapgl\":[{\"type\":\"heatmapgl\",\"colorbar\":{\"outlinewidth\":0,\"ticks\":\"\"},\"colorscale\":[[0.0,\"#0d0887\"],[0.1111111111111111,\"#46039f\"],[0.2222222222222222,\"#7201a8\"],[0.3333333333333333,\"#9c179e\"],[0.4444444444444444,\"#bd3786\"],[0.5555555555555556,\"#d8576b\"],[0.6666666666666666,\"#ed7953\"],[0.7777777777777778,\"#fb9f3a\"],[0.8888888888888888,\"#fdca26\"],[1.0,\"#f0f921\"]]}],\"contourcarpet\":[{\"type\":\"contourcarpet\",\"colorbar\":{\"outlinewidth\":0,\"ticks\":\"\"}}],\"contour\":[{\"type\":\"contour\",\"colorbar\":{\"outlinewidth\":0,\"ticks\":\"\"},\"colorscale\":[[0.0,\"#0d0887\"],[0.1111111111111111,\"#46039f\"],[0.2222222222222222,\"#7201a8\"],[0.3333333333333333,\"#9c179e\"],[0.4444444444444444,\"#bd3786\"],[0.5555555555555556,\"#d8576b\"],[0.6666666666666666,\"#ed7953\"],[0.7777777777777778,\"#fb9f3a\"],[0.8888888888888888,\"#fdca26\"],[1.0,\"#f0f921\"]]}],\"surface\":[{\"type\":\"surface\",\"colorbar\":{\"outlinewidth\":0,\"ticks\":\"\"},\"colorscale\":[[0.0,\"#0d0887\"],[0.1111111111111111,\"#46039f\"],[0.2222222222222222,\"#7201a8\"],[0.3333333333333333,\"#9c179e\"],[0.4444444444444444,\"#bd3786\"],[0.5555555555555556,\"#d8576b\"],[0.6666666666666666,\"#ed7953\"],[0.7777777777777778,\"#fb9f3a\"],[0.8888888888888888,\"#fdca26\"],[1.0,\"#f0f921\"]]}],\"mesh3d\":[{\"type\":\"mesh3d\",\"colorbar\":{\"outlinewidth\":0,\"ticks\":\"\"}}],\"scatter\":[{\"fillpattern\":{\"fillmode\":\"overlay\",\"size\":10,\"solidity\":0.2},\"type\":\"scatter\"}],\"parcoords\":[{\"type\":\"parcoords\",\"line\":{\"colorbar\":{\"outlinewidth\":0,\"ticks\":\"\"}}}],\"scatterpolargl\":[{\"type\":\"scatterpolargl\",\"marker\":{\"colorbar\":{\"outlinewidth\":0,\"ticks\":\"\"}}}],\"bar\":[{\"error_x\":{\"color\":\"#2a3f5f\"},\"error_y\":{\"color\":\"#2a3f5f\"},\"marker\":{\"line\":{\"color\":\"#E5ECF6\",\"width\":0.5},\"pattern\":{\"fillmode\":\"overlay\",\"size\":10,\"solidity\":0.2}},\"type\":\"bar\"}],\"scattergeo\":[{\"type\":\"scattergeo\",\"marker\":{\"colorbar\":{\"outlinewidth\":0,\"ticks\":\"\"}}}],\"scatterpolar\":[{\"type\":\"scatterpolar\",\"marker\":{\"colorbar\":{\"outlinewidth\":0,\"ticks\":\"\"}}}],\"histogram\":[{\"marker\":{\"pattern\":{\"fillmode\":\"overlay\",\"size\":10,\"solidity\":0.2}},\"type\":\"histogram\"}],\"scattergl\":[{\"type\":\"scattergl\",\"marker\":{\"colorbar\":{\"outlinewidth\":0,\"ticks\":\"\"}}}],\"scatter3d\":[{\"type\":\"scatter3d\",\"line\":{\"colorbar\":{\"outlinewidth\":0,\"ticks\":\"\"}},\"marker\":{\"colorbar\":{\"outlinewidth\":0,\"ticks\":\"\"}}}],\"scattermapbox\":[{\"type\":\"scattermapbox\",\"marker\":{\"colorbar\":{\"outlinewidth\":0,\"ticks\":\"\"}}}],\"scatterternary\":[{\"type\":\"scatterternary\",\"marker\":{\"colorbar\":{\"outlinewidth\":0,\"ticks\":\"\"}}}],\"scattercarpet\":[{\"type\":\"scattercarpet\",\"marker\":{\"colorbar\":{\"outlinewidth\":0,\"ticks\":\"\"}}}],\"carpet\":[{\"aaxis\":{\"endlinecolor\":\"#2a3f5f\",\"gridcolor\":\"white\",\"linecolor\":\"white\",\"minorgridcolor\":\"white\",\"startlinecolor\":\"#2a3f5f\"},\"baxis\":{\"endlinecolor\":\"#2a3f5f\",\"gridcolor\":\"white\",\"linecolor\":\"white\",\"minorgridcolor\":\"white\",\"startlinecolor\":\"#2a3f5f\"},\"type\":\"carpet\"}],\"table\":[{\"cells\":{\"fill\":{\"color\":\"#EBF0F8\"},\"line\":{\"color\":\"white\"}},\"header\":{\"fill\":{\"color\":\"#C8D4E3\"},\"line\":{\"color\":\"white\"}},\"type\":\"table\"}],\"barpolar\":[{\"marker\":{\"line\":{\"color\":\"#E5ECF6\",\"width\":0.5},\"pattern\":{\"fillmode\":\"overlay\",\"size\":10,\"solidity\":0.2}},\"type\":\"barpolar\"}],\"pie\":[{\"automargin\":true,\"type\":\"pie\"}]},\"layout\":{\"autotypenumbers\":\"strict\",\"colorway\":[\"#636efa\",\"#EF553B\",\"#00cc96\",\"#ab63fa\",\"#FFA15A\",\"#19d3f3\",\"#FF6692\",\"#B6E880\",\"#FF97FF\",\"#FECB52\"],\"font\":{\"color\":\"#2a3f5f\"},\"hovermode\":\"closest\",\"hoverlabel\":{\"align\":\"left\"},\"paper_bgcolor\":\"white\",\"plot_bgcolor\":\"#E5ECF6\",\"polar\":{\"bgcolor\":\"#E5ECF6\",\"angularaxis\":{\"gridcolor\":\"white\",\"linecolor\":\"white\",\"ticks\":\"\"},\"radialaxis\":{\"gridcolor\":\"white\",\"linecolor\":\"white\",\"ticks\":\"\"}},\"ternary\":{\"bgcolor\":\"#E5ECF6\",\"aaxis\":{\"gridcolor\":\"white\",\"linecolor\":\"white\",\"ticks\":\"\"},\"baxis\":{\"gridcolor\":\"white\",\"linecolor\":\"white\",\"ticks\":\"\"},\"caxis\":{\"gridcolor\":\"white\",\"linecolor\":\"white\",\"ticks\":\"\"}},\"coloraxis\":{\"colorbar\":{\"outlinewidth\":0,\"ticks\":\"\"}},\"colorscale\":{\"sequential\":[[0.0,\"#0d0887\"],[0.1111111111111111,\"#46039f\"],[0.2222222222222222,\"#7201a8\"],[0.3333333333333333,\"#9c179e\"],[0.4444444444444444,\"#bd3786\"],[0.5555555555555556,\"#d8576b\"],[0.6666666666666666,\"#ed7953\"],[0.7777777777777778,\"#fb9f3a\"],[0.8888888888888888,\"#fdca26\"],[1.0,\"#f0f921\"]],\"sequentialminus\":[[0.0,\"#0d0887\"],[0.1111111111111111,\"#46039f\"],[0.2222222222222222,\"#7201a8\"],[0.3333333333333333,\"#9c179e\"],[0.4444444444444444,\"#bd3786\"],[0.5555555555555556,\"#d8576b\"],[0.6666666666666666,\"#ed7953\"],[0.7777777777777778,\"#fb9f3a\"],[0.8888888888888888,\"#fdca26\"],[1.0,\"#f0f921\"]],\"diverging\":[[0,\"#8e0152\"],[0.1,\"#c51b7d\"],[0.2,\"#de77ae\"],[0.3,\"#f1b6da\"],[0.4,\"#fde0ef\"],[0.5,\"#f7f7f7\"],[0.6,\"#e6f5d0\"],[0.7,\"#b8e186\"],[0.8,\"#7fbc41\"],[0.9,\"#4d9221\"],[1,\"#276419\"]]},\"xaxis\":{\"gridcolor\":\"white\",\"linecolor\":\"white\",\"ticks\":\"\",\"title\":{\"standoff\":15},\"zerolinecolor\":\"white\",\"automargin\":true,\"zerolinewidth\":2},\"yaxis\":{\"gridcolor\":\"white\",\"linecolor\":\"white\",\"ticks\":\"\",\"title\":{\"standoff\":15},\"zerolinecolor\":\"white\",\"automargin\":true,\"zerolinewidth\":2},\"scene\":{\"xaxis\":{\"backgroundcolor\":\"#E5ECF6\",\"gridcolor\":\"white\",\"linecolor\":\"white\",\"showbackground\":true,\"ticks\":\"\",\"zerolinecolor\":\"white\",\"gridwidth\":2},\"yaxis\":{\"backgroundcolor\":\"#E5ECF6\",\"gridcolor\":\"white\",\"linecolor\":\"white\",\"showbackground\":true,\"ticks\":\"\",\"zerolinecolor\":\"white\",\"gridwidth\":2},\"zaxis\":{\"backgroundcolor\":\"#E5ECF6\",\"gridcolor\":\"white\",\"linecolor\":\"white\",\"showbackground\":true,\"ticks\":\"\",\"zerolinecolor\":\"white\",\"gridwidth\":2}},\"shapedefaults\":{\"line\":{\"color\":\"#2a3f5f\"}},\"annotationdefaults\":{\"arrowcolor\":\"#2a3f5f\",\"arrowhead\":0,\"arrowwidth\":1},\"geo\":{\"bgcolor\":\"white\",\"landcolor\":\"#E5ECF6\",\"subunitcolor\":\"white\",\"showland\":true,\"showlakes\":true,\"lakecolor\":\"white\"},\"title\":{\"x\":0.05},\"mapbox\":{\"style\":\"light\"}}},\"xaxis\":{\"anchor\":\"y\",\"domain\":[0.0,1.0],\"title\":{\"text\":\"class_label\"}},\"yaxis\":{\"anchor\":\"x\",\"domain\":[0.0,1.0],\"title\":{\"text\":\"count\"}},\"legend\":{\"tracegroupgap\":0},\"title\":{\"text\":\"Counts of papers in each class\"},\"barmode\":\"relative\"},                        {\"responsive\": true}                    ).then(function(){\n",
              "                            \n",
              "var gd = document.getElementById('75cb9ef1-28ac-4d48-991a-361afd03cdaa');\n",
              "var x = new MutationObserver(function (mutations, observer) {{\n",
              "        var display = window.getComputedStyle(gd).display;\n",
              "        if (!display || display === 'none') {{\n",
              "            console.log([gd, 'removed!']);\n",
              "            Plotly.purge(gd);\n",
              "            observer.disconnect();\n",
              "        }}\n",
              "}});\n",
              "\n",
              "// Listen for the removal of the full notebook cells\n",
              "var notebookContainer = gd.closest('#notebook-container');\n",
              "if (notebookContainer) {{\n",
              "    x.observe(notebookContainer, {childList: true});\n",
              "}}\n",
              "\n",
              "// Listen for the clearing of the current output cell\n",
              "var outputEl = gd.closest('.output');\n",
              "if (outputEl) {{\n",
              "    x.observe(outputEl, {childList: true});\n",
              "}}\n",
              "\n",
              "                        })                };                            </script>        </div>\n",
              "</body>\n",
              "</html>"
            ]
          },
          "metadata": {}
        }
      ]
    },
    {
      "cell_type": "code",
      "source": [
        "sorted_nodes = sorted(G.degree, key=lambda x: x[1], reverse=True)[:5]"
      ],
      "metadata": {
        "id": "1QvM2hNSxMAz"
      },
      "execution_count": null,
      "outputs": []
    },
    {
      "cell_type": "code",
      "source": [
        "for node in sorted_nodes:\n",
        "  print(node,nodes_dict[node[0]])"
      ],
      "metadata": {
        "id": "5h3m-6gAxMdn",
        "colab": {
          "base_uri": "https://localhost:8080/"
        },
        "outputId": "c0a05a9e-3c95-443e-c99f-6a74da14d3d5"
      },
      "execution_count": null,
      "outputs": [
        {
          "output_type": "stream",
          "name": "stdout",
          "text": [
            "(35, 168) Genetic_Algorithms\n",
            "(6213, 78) Reinforcement_Learning\n",
            "(1365, 74) Neural_Networks\n",
            "(3229, 65) Neural_Networks\n",
            "(910, 44) Neural_Networks\n"
          ]
        }
      ]
    },
    {
      "cell_type": "code",
      "source": [
        "nx.algorithms.clique.graph_number_of_cliques(G)"
      ],
      "metadata": {
        "id": "HzXuaiZN44He",
        "colab": {
          "base_uri": "https://localhost:8080/"
        },
        "outputId": "b87beef4-faa7-4bd9-f300-0db5c639f68b"
      },
      "execution_count": null,
      "outputs": [
        {
          "output_type": "execute_result",
          "data": {
            "text/plain": [
              "3563"
            ]
          },
          "metadata": {},
          "execution_count": 113
        }
      ]
    },
    {
      "cell_type": "code",
      "source": [
        "max_cliques = []\n",
        "for clique in nx.find_cliques(G):\n",
        "  if len(clique)==5:\n",
        "     max_cliques.append(clique)"
      ],
      "metadata": {
        "id": "SkInKstw6zAa"
      },
      "execution_count": null,
      "outputs": []
    },
    {
      "cell_type": "code",
      "source": [
        "for max_clique in max_cliques:\n",
        "  print(\"clique: \",max_clique)\n",
        "  for node in max_clique:\n",
        "    print(node,nodes_dict[node])"
      ],
      "metadata": {
        "id": "q_AOAWoP7MZA",
        "colab": {
          "base_uri": "https://localhost:8080/"
        },
        "outputId": "0b644c46-0236-42d2-af20-b5a191d419ed"
      },
      "execution_count": null,
      "outputs": [
        {
          "output_type": "stream",
          "name": "stdout",
          "text": [
            "clique:  [8224, 22431, 49843, 49844, 49847]\n",
            "8224 Theory\n",
            "22431 Rule_Learning\n",
            "49843 Rule_Learning\n",
            "49844 Rule_Learning\n",
            "49847 Rule_Learning\n",
            "clique:  [1122642, 34257, 34266, 34263, 90655]\n",
            "1122642 Neural_Networks\n",
            "34257 Neural_Networks\n",
            "34266 Neural_Networks\n",
            "34263 Neural_Networks\n",
            "90655 Neural_Networks\n",
            "clique:  [1123188, 6910, 12638, 12631, 662416]\n",
            "1123188 Neural_Networks\n",
            "6910 Neural_Networks\n",
            "12638 Neural_Networks\n",
            "12631 Neural_Networks\n",
            "662416 Probabilistic_Methods\n",
            "clique:  [1123188, 6910, 12638, 12631, 6898]\n",
            "1123188 Neural_Networks\n",
            "6910 Neural_Networks\n",
            "12638 Neural_Networks\n",
            "12631 Neural_Networks\n",
            "6898 Neural_Networks\n",
            "clique:  [124064, 6213, 6224, 6163, 6220]\n",
            "124064 Reinforcement_Learning\n",
            "6213 Reinforcement_Learning\n",
            "6224 Reinforcement_Learning\n",
            "6163 Reinforcement_Learning\n",
            "6220 Reinforcement_Learning\n",
            "clique:  [10435, 1103394, 22563, 22564, 22566]\n",
            "10435 Case_Based\n",
            "1103394 Case_Based\n",
            "22563 Neural_Networks\n",
            "22564 Case_Based\n",
            "22566 Case_Based\n",
            "clique:  [10531, 31353, 686532, 31349, 31336]\n",
            "10531 Neural_Networks\n",
            "31353 Neural_Networks\n",
            "686532 Neural_Networks\n",
            "31349 Neural_Networks\n",
            "31336 Neural_Networks\n",
            "clique:  [10531, 31353, 686532, 31349, 43698]\n",
            "10531 Neural_Networks\n",
            "31353 Neural_Networks\n",
            "686532 Neural_Networks\n",
            "31349 Neural_Networks\n",
            "43698 Neural_Networks\n",
            "clique:  [4584, 6213, 6214, 6151, 6155]\n",
            "4584 Reinforcement_Learning\n",
            "6213 Reinforcement_Learning\n",
            "6214 Reinforcement_Learning\n",
            "6151 Reinforcement_Learning\n",
            "6155 Reinforcement_Learning\n"
          ]
        }
      ]
    },
    {
      "cell_type": "code",
      "source": [
        "len(max_cliques)"
      ],
      "metadata": {
        "id": "l9iG_isM-HID",
        "colab": {
          "base_uri": "https://localhost:8080/"
        },
        "outputId": "bd695709-f708-4d6d-fe22-171aec01649f"
      },
      "execution_count": null,
      "outputs": [
        {
          "output_type": "execute_result",
          "data": {
            "text/plain": [
              "9"
            ]
          },
          "metadata": {},
          "execution_count": 116
        }
      ]
    },
    {
      "cell_type": "code",
      "source": [
        "paper_cites_counts = df.groupby('cited_paper_id').size().to_frame('degree').reset_index()"
      ],
      "metadata": {
        "id": "kN-udGdu_A-l"
      },
      "execution_count": null,
      "outputs": []
    },
    {
      "cell_type": "code",
      "source": [
        "def add_degree(row):\n",
        "  global paper_cites_counts\n",
        "  # print(row['paper_id'])\n",
        "  degree_list = paper_cites_counts.loc[paper_cites_counts['cited_paper_id']==row['paper_id'],'degree'].tolist()\n",
        "  if len(degree_list) != 1:\n",
        "    return 0\n",
        "  return degree_list[0]"
      ],
      "metadata": {
        "id": "LgQa5SQsfGEi"
      },
      "execution_count": null,
      "outputs": []
    },
    {
      "cell_type": "code",
      "source": [
        "df_paper['degree'] = 0"
      ],
      "metadata": {
        "id": "y6NY5BHKgJUZ"
      },
      "execution_count": null,
      "outputs": []
    },
    {
      "cell_type": "code",
      "source": [
        "df_paper['degree'] = df_paper.apply(add_degree, axis=1)"
      ],
      "metadata": {
        "id": "1kbE1C12fgBG"
      },
      "execution_count": null,
      "outputs": []
    },
    {
      "cell_type": "code",
      "source": [
        "df_paper.to_csv(\"paper_with_degree.csv\",index=False)"
      ],
      "metadata": {
        "id": "tvIxFU93gQ1E"
      },
      "execution_count": null,
      "outputs": []
    },
    {
      "cell_type": "code",
      "source": [
        "len(paper_cites_counts['cited_paper_id'].unique())"
      ],
      "metadata": {
        "id": "W87nGV_wgTjX",
        "colab": {
          "base_uri": "https://localhost:8080/"
        },
        "outputId": "e1cbd625-e418-44ac-d6d0-3c10b2af592b"
      },
      "execution_count": null,
      "outputs": [
        {
          "output_type": "execute_result",
          "data": {
            "text/plain": [
              "1565"
            ]
          },
          "metadata": {},
          "execution_count": 122
        }
      ]
    },
    {
      "cell_type": "code",
      "source": [
        "len(df['citing_paper_id'].unique())"
      ],
      "metadata": {
        "id": "W0TxqBDzhCrV",
        "colab": {
          "base_uri": "https://localhost:8080/"
        },
        "outputId": "84739987-fd85-4a60-a4fc-d6f4f82fb9c0"
      },
      "execution_count": null,
      "outputs": [
        {
          "output_type": "execute_result",
          "data": {
            "text/plain": [
              "2222"
            ]
          },
          "metadata": {},
          "execution_count": 123
        }
      ]
    }
  ]
}